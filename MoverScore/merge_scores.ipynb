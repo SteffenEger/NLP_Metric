{
 "cells": [
  {
   "cell_type": "code",
   "execution_count": 7,
   "metadata": {},
   "outputs": [
    {
     "name": "stdout",
     "output_type": "stream",
     "text": [
      "['.\\\\MS_albert-base-v2.csv', '.\\\\MS_bert-base-uncased.csv', '.\\\\MS_distilbert-base-uncased.csv', '.\\\\MS_roberta-base.csv']\n",
      "<generator object <genexpr> at 0x00000152FE3D7990>\n"
     ]
    },
    {
     "data": {
      "text/html": [
       "<div>\n",
       "<style scoped>\n",
       "    .dataframe tbody tr th:only-of-type {\n",
       "        vertical-align: middle;\n",
       "    }\n",
       "\n",
       "    .dataframe tbody tr th {\n",
       "        vertical-align: top;\n",
       "    }\n",
       "\n",
       "    .dataframe thead th {\n",
       "        text-align: right;\n",
       "    }\n",
       "</style>\n",
       "<table border=\"1\" class=\"dataframe\">\n",
       "  <thead>\n",
       "    <tr style=\"text-align: right;\">\n",
       "      <th></th>\n",
       "      <th>Variant</th>\n",
       "      <th>Pearson Corr.</th>\n",
       "      <th>Time F1 Score</th>\n",
       "      <th>max Memory Usage</th>\n",
       "    </tr>\n",
       "  </thead>\n",
       "  <tbody>\n",
       "    <tr>\n",
       "      <th>0</th>\n",
       "      <td>bert-base-uncased</td>\n",
       "      <td>0.336</td>\n",
       "      <td>734.357989</td>\n",
       "      <td>3570648</td>\n",
       "    </tr>\n",
       "    <tr>\n",
       "      <th>1</th>\n",
       "      <td>albert-base-v2</td>\n",
       "      <td>0.251</td>\n",
       "      <td>955.180274</td>\n",
       "      <td>6171644</td>\n",
       "    </tr>\n",
       "    <tr>\n",
       "      <th>2</th>\n",
       "      <td>distilbert-base-uncased</td>\n",
       "      <td>0.318</td>\n",
       "      <td>388.207440</td>\n",
       "      <td>1880108</td>\n",
       "    </tr>\n",
       "    <tr>\n",
       "      <th>3</th>\n",
       "      <td>roberta-base</td>\n",
       "      <td>0.285</td>\n",
       "      <td>904.770033</td>\n",
       "      <td>3497167</td>\n",
       "    </tr>\n",
       "  </tbody>\n",
       "</table>\n",
       "</div>"
      ],
      "text/plain": [
       "                   Variant  Pearson Corr.  Time F1 Score  max Memory Usage\n",
       "0        bert-base-uncased          0.336     734.357989           3570648\n",
       "1           albert-base-v2          0.251     955.180274           6171644\n",
       "2  distilbert-base-uncased          0.318     388.207440           1880108\n",
       "3             roberta-base          0.285     904.770033           3497167"
      ]
     },
     "execution_count": 7,
     "metadata": {},
     "output_type": "execute_result"
    }
   ],
   "source": [
    "import os, glob\n",
    "import pandas as pd\n",
    "\n",
    "path = './'\n",
    "\n",
    "# get results from experiments\n",
    "all_files = glob.glob(os.path.join(path, \"MS_*.csv\"))\n",
    "print(all_files)\n",
    "df_from_each_file = (pd.read_csv(f, sep=',') for f in all_files)\n",
    "print(df_from_each_file)\n",
    "df_merged   = pd.concat(df_from_each_file, ignore_index=True)\n",
    "\n",
    "b, c = df_merged.iloc[0], df_merged.iloc[1]\n",
    "temp = df_merged.iloc[0].copy()\n",
    "df_merged.iloc[0] = c\n",
    "df_merged.iloc[1] = temp\n",
    "\n",
    "df_merged.to_csv( \"merged.csv\")\n",
    "\n",
    "#df_merged = MS_all\n",
    "df_merged"
   ]
  },
  {
   "cell_type": "code",
   "execution_count": 8,
   "metadata": {},
   "outputs": [
    {
     "name": "stdout",
     "output_type": "stream",
     "text": [
      "{'Variant': ['bert-base-uncased', 'albert-base-v2', 'distilbert-base-uncased', 'roberta-base'], 'Pearson Corr.': [0.336, 0.251, 0.318, 0.285], 'Time F1 Score': [734.3579887220003, 955.1802739560004, 388.20743962599954, 904.7700330649997], 'max Memory Usage': [3570648, 6171644, 1880108, 3497167]}\n"
     ]
    }
   ],
   "source": [
    "\n",
    "result_df = pd.DataFrame.to_dict(df_merged, orient='list')\n",
    "\n",
    "print(result_df)\n"
   ]
  },
  {
   "cell_type": "code",
   "execution_count": 9,
   "metadata": {},
   "outputs": [
    {
     "name": "stdout",
     "output_type": "stream",
     "text": [
      "0.336\n",
      "{'Variant': ['bert-base-uncased', 'albert-base-v2', 'distilbert-base-uncased', 'roberta-base'], 'Pearson Corr.': [0.336, 0.251, 0.318, 0.285], '% Time BERT': ['100.000', '130.070', '52.864', '123.206'], '% Memory BERT': ['100.000', '172.844', '52.655', '97.942']}\n"
     ]
    }
   ],
   "source": [
    "# build dictionary for results\n",
    "VARIANT = 'Variant'\n",
    "CORRELATION = 'Pearson Corr.'\n",
    "TIME = 'Time F1 Score'\n",
    "BERTTIME = '% Time BERT'\n",
    "MEMORY = 'max Memory Usage'\n",
    "BERTMEM = '% Memory BERT'\n",
    "\n",
    "res= {\n",
    "    VARIANT: [],\n",
    "    CORRELATION: [],\n",
    "    BERTTIME: [],\n",
    "    BERTMEM: []\n",
    "    }\n",
    "\n",
    "# compare time taken to base bert time and create new Dataframe with relative results\n",
    "print(result_df['Pearson Corr.'][0])\n",
    "for i in range(4):\n",
    "    res[VARIANT].append(result_df['Variant'][i])\n",
    "    res[CORRELATION].append(result_df['Pearson Corr.'][i])\n",
    "    res[BERTTIME].append(f\"{result_df['Time F1 Score'][i] / result_df['Time F1 Score'][0] * 100:.3f}\")\n",
    "    res[BERTMEM].append(f\"{result_df['max Memory Usage'][i] / result_df['max Memory Usage'][0] * 100:.3f}\")\n",
    "    #res[BERTTIME].append(f'{res[TIME][i] / res[TIME][0] * 100:.1f}')\n",
    "    #res[BERTMEM].append(f'{res[MEMORY][i] / res[MEMORY][0] * 100:.1f}')\n",
    "results = res\n",
    "print(results)"
   ]
  },
  {
   "cell_type": "code",
   "execution_count": 10,
   "metadata": {},
   "outputs": [],
   "source": [
    "# build and save dataframe\n",
    "df_r = pd.DataFrame(results, columns=[VARIANT, CORRELATION, BERTTIME, BERTMEM]).set_index(VARIANT)\n",
    "df_r.to_csv(f\"MS_relative_scores.csv\")"
   ]
  },
  {
   "cell_type": "code",
   "execution_count": null,
   "metadata": {},
   "outputs": [],
   "source": []
  }
 ],
 "metadata": {
  "kernelspec": {
   "display_name": "Python 3",
   "language": "python",
   "name": "python3"
  },
  "language_info": {
   "codemirror_mode": {
    "name": "ipython",
    "version": 3
   },
   "file_extension": ".py",
   "mimetype": "text/x-python",
   "name": "python",
   "nbconvert_exporter": "python",
   "pygments_lexer": "ipython3",
   "version": "3.6.2"
  }
 },
 "nbformat": 4,
 "nbformat_minor": 2
}
