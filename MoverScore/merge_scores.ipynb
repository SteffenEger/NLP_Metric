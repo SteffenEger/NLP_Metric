{
  "nbformat": 4,
  "nbformat_minor": 0,
  "metadata": {
    "colab": {
      "name": "merge_scores.ipynb",
      "provenance": [],
      "collapsed_sections": []
    },
    "kernelspec": {
      "name": "python3",
      "display_name": "Python 3"
    },
    "language_info": {
      "name": "python"
    }
  },
  "cells": [
    {
      "cell_type": "code",
      "metadata": {
        "colab": {
          "base_uri": "https://localhost:8080/"
        },
        "id": "RQxqL2pqlYr1",
        "outputId": "d09f01fa-a803-4570-85ef-84ca82423943"
      },
      "source": [
        "from google.colab import drive\n",
        "drive.mount(\"/content/drive\")"
      ],
      "execution_count": 1,
      "outputs": [
        {
          "output_type": "stream",
          "text": [
            "Mounted at /content/drive\n"
          ],
          "name": "stdout"
        }
      ]
    },
    {
      "cell_type": "code",
      "metadata": {
        "id": "N1X0TfTN43pD"
      },
      "source": [
        "import os, glob\n",
        "import pandas as pd"
      ],
      "execution_count": 2,
      "outputs": []
    },
    {
      "cell_type": "code",
      "metadata": {
        "colab": {
          "base_uri": "https://localhost:8080/"
        },
        "id": "B__Lmm8HmyAo",
        "outputId": "6569b027-e513-4843-8f8d-72f6b132116e"
      },
      "source": [
        "# get results from experiments in Drive\n",
        "path = \"/content/drive/MyDrive/data/MSE/\"\n",
        "all_files = glob.glob(os.path.join(path, \"MS_*.csv\"))\n",
        "print(all_files)\n",
        "bert = pd.read_csv(os.path.join(path, 'MS_bert-base-uncased.csv'))\n",
        "albert = pd.read_csv(os.path.join(path, 'MS_albert-base-v2.csv'))\n",
        "roberta = pd.read_csv(os.path.join(path, 'MS_roberta-base.csv'))\n",
        "distilbert = pd.read_csv(os.path.join(path, 'MS_distilbert-base-uncased.csv'))\n",
        "MS_all = pd.concat([bert, albert, roberta, distilbert], ignore_index=True)\n",
        "\n",
        "df_merged = MS_all\n",
        "result_df = pd.DataFrame.to_dict(df_merged, orient='list')"
      ],
      "execution_count": 4,
      "outputs": [
        {
          "output_type": "stream",
          "text": [
            "['/content/drive/MyDrive/data/MSE/MS_roberta-base.csv', '/content/drive/MyDrive/data/MSE/MS_bert-base-uncased.csv', '/content/drive/MyDrive/data/MSE/MS_albert-base-v2.csv', '/content/drive/MyDrive/data/MSE/MS_distilbert-base-uncased.csv']\n"
          ],
          "name": "stdout"
        }
      ]
    },
    {
      "cell_type": "code",
      "metadata": {
        "id": "gPDowW-MlsyP"
      },
      "source": [
        "VARIANT = 'Variant'\n",
        "CORRELATION = 'Pearson Corr.'\n",
        "TIME = 'Time F1 Score'\n",
        "BERTTIME = '% Time BERT'\n",
        "MEMORY = 'max Memory Usage'\n",
        "BERTMEM = '% Memory BERT'"
      ],
      "execution_count": 5,
      "outputs": []
    },
    {
      "cell_type": "code",
      "metadata": {
        "id": "vOmG-HXw6lgj"
      },
      "source": [
        "# compare time taken to base bert time and create new Dataframe with relative results\n",
        "variants = [\"bert-base-uncased\", \"roberta-base\", \"albert-base-v2\", \"distilbert-base-uncased\"]\n",
        "\n",
        "result_df[BERTTIME] = []\n",
        "result_df[BERTMEM] = []\n",
        "for i in range(len(variants)):\n",
        "  result_df[BERTTIME].append(f'{result_df[TIME][i] / result_df[TIME][0] * 100:.1f}')\n",
        "  result_df[BERTMEM].append(f'{result_df[MEMORY][i] / result_df[MEMORY][0] * 100:.1f}')"
      ],
      "execution_count": 7,
      "outputs": []
    },
    {
      "cell_type": "code",
      "metadata": {
        "id": "EExbn1f36nmb"
      },
      "source": [
        "# build and save dataframe\n",
        "df_r = pd.DataFrame(result_df, columns=[VARIANT, CORRELATION, BERTTIME, BERTMEM]).set_index(VARIANT)\n",
        "df_r.to_csv(f\"MS_relative_scores.csv\")"
      ],
      "execution_count": 8,
      "outputs": []
    },
    {
      "cell_type": "code",
      "metadata": {
        "colab": {
          "base_uri": "https://localhost:8080/",
          "height": 206
        },
        "id": "UqOS6Q-f6qgQ",
        "outputId": "b3b24e12-caca-455b-cf8d-cb6cb6ff01dc"
      },
      "source": [
        "df_r"
      ],
      "execution_count": 9,
      "outputs": [
        {
          "output_type": "execute_result",
          "data": {
            "text/html": [
              "<div>\n",
              "<style scoped>\n",
              "    .dataframe tbody tr th:only-of-type {\n",
              "        vertical-align: middle;\n",
              "    }\n",
              "\n",
              "    .dataframe tbody tr th {\n",
              "        vertical-align: top;\n",
              "    }\n",
              "\n",
              "    .dataframe thead th {\n",
              "        text-align: right;\n",
              "    }\n",
              "</style>\n",
              "<table border=\"1\" class=\"dataframe\">\n",
              "  <thead>\n",
              "    <tr style=\"text-align: right;\">\n",
              "      <th></th>\n",
              "      <th>Pearson Corr.</th>\n",
              "      <th>% Time BERT</th>\n",
              "      <th>% Memory BERT</th>\n",
              "    </tr>\n",
              "    <tr>\n",
              "      <th>Variant</th>\n",
              "      <th></th>\n",
              "      <th></th>\n",
              "      <th></th>\n",
              "    </tr>\n",
              "  </thead>\n",
              "  <tbody>\n",
              "    <tr>\n",
              "      <th>bert-base-uncased</th>\n",
              "      <td>0.336</td>\n",
              "      <td>100.0</td>\n",
              "      <td>100.0</td>\n",
              "    </tr>\n",
              "    <tr>\n",
              "      <th>albert-base-v2</th>\n",
              "      <td>0.251</td>\n",
              "      <td>130.1</td>\n",
              "      <td>172.8</td>\n",
              "    </tr>\n",
              "    <tr>\n",
              "      <th>roberta-base</th>\n",
              "      <td>0.285</td>\n",
              "      <td>123.2</td>\n",
              "      <td>97.9</td>\n",
              "    </tr>\n",
              "    <tr>\n",
              "      <th>distilbert-base-uncased</th>\n",
              "      <td>0.318</td>\n",
              "      <td>52.9</td>\n",
              "      <td>52.7</td>\n",
              "    </tr>\n",
              "  </tbody>\n",
              "</table>\n",
              "</div>"
            ],
            "text/plain": [
              "                         Pearson Corr. % Time BERT % Memory BERT\n",
              "Variant                                                         \n",
              "bert-base-uncased                0.336       100.0         100.0\n",
              "albert-base-v2                   0.251       130.1         172.8\n",
              "roberta-base                     0.285       123.2          97.9\n",
              "distilbert-base-uncased          0.318        52.9          52.7"
            ]
          },
          "metadata": {},
          "execution_count": 9
        }
      ]
    },
    {
      "cell_type": "code",
      "metadata": {
        "id": "Bw_8fd8Kt2uJ"
      },
      "source": [
        ""
      ],
      "execution_count": null,
      "outputs": []
    }
  ]
}