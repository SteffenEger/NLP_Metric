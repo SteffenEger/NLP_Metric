{
 "cells": [
  {
   "cell_type": "markdown",
   "id": "10fda35f-7176-4555-afd5-de57d31899af",
   "metadata": {},
   "source": [
    "# SUPERT "
   ]
  },
  {
   "cell_type": "markdown",
   "id": "d081295f-ff6c-4b7d-8a37-dcec454940e8",
   "metadata": {},
   "source": [
    "Example code for using the supert metrics\n",
    "\n",
    "- Paper: https://arxiv.org/abs/2005.03724\n",
    "- Git-Project: https://github.com/danieldeutsch/SUPERT"
   ]
  },
  {
   "cell_type": "code",
   "execution_count": 1,
   "id": "3ed7d641-023c-49d6-a2fa-43dfcfe95f65",
   "metadata": {},
   "outputs": [],
   "source": [
    "import sys\n",
    "sys.path.append(\"SUPERT\")\n",
    "import time\n",
    "import tracemalloc "
   ]
  },
  {
   "cell_type": "code",
   "execution_count": 2,
   "id": "5e53e93e-6592-47ac-9cb3-6a96b6dd7722",
   "metadata": {},
   "outputs": [
    {
     "name": "stderr",
     "output_type": "stream",
     "text": [
      "[nltk_data] Downloading package punkt to\n",
      "[nltk_data]     /Users/dwarakvittal/nltk_data...\n",
      "[nltk_data]   Package punkt is already up-to-date!\n",
      "[nltk_data] Downloading package stopwords to\n",
      "[nltk_data]     /Users/dwarakvittal/nltk_data...\n",
      "[nltk_data]   Package stopwords is already up-to-date!\n"
     ]
    },
    {
     "data": {
      "text/plain": [
       "True"
      ]
     },
     "execution_count": 2,
     "metadata": {},
     "output_type": "execute_result"
    }
   ],
   "source": [
    "# to get the reader working\n",
    "import nltk\n",
    "nltk.download('punkt')\n",
    "nltk.download('stopwords')"
   ]
  },
  {
   "cell_type": "code",
   "execution_count": 3,
   "id": "e1f817a1-9fe9-45ec-b1f0-eab1800a5af4",
   "metadata": {},
   "outputs": [],
   "source": [
    "from ref_free_metrics.supert import Supert\n",
    "from utils.data_reader import CorpusReader\n",
    "from utils.evaluator import evaluate_summary_rouge, add_result"
   ]
  },
  {
   "cell_type": "code",
   "execution_count": 4,
   "id": "9ace5438-9137-44ab-817a-5d4e6ba5c939",
   "metadata": {},
   "outputs": [],
   "source": [
    "# read docs and summaries\n",
    "reader = CorpusReader('SUPERT/data/topic_1')\n",
    "source_docs = reader()\n",
    "summaries = reader.readSummaries() \n",
    "refs = reader.readReferences()"
   ]
  },
  {
   "cell_type": "markdown",
   "id": "8f2cc19f-2c04-4494-9fc9-0075903932a6",
   "metadata": {},
   "source": [
    "# Evaluate Summaries"
   ]
  },
  {
   "cell_type": "markdown",
   "id": "dc294cf6-93dc-4150-9532-6e300f7e4528",
   "metadata": {},
   "source": [
    "### BERT"
   ]
  },
  {
   "cell_type": "code",
   "execution_count": 9,
   "id": "306bca16-f668-44c7-aa61-5ceb04aa67e2",
   "metadata": {},
   "outputs": [],
   "source": [
    "tracemalloc.start()      "
   ]
  },
  {
   "cell_type": "code",
   "execution_count": 10,
   "id": "f5e78cfb-dea8-4f36-94dd-63c51937dca0",
   "metadata": {},
   "outputs": [
    {
     "name": "stdout",
     "output_type": "stream",
     "text": [
      "[{'idx': 0, 'name': '0', 'path': '0_BERT', 'type': 'sentence_transformers.models.BERT'}, {'idx': 1, 'name': '1', 'path': '1_Pooling', 'type': 'sentence_transformers.models.Pooling'}]\n"
     ]
    }
   ],
   "source": [
    "bert_start = time.perf_counter()\n",
    "# compute the Supert scores\n",
    "supert = Supert(docs=source_docs, sentence_transformer='bert-base-nli-stsb-mean-tokens')\n",
    "bert_scores = supert(summaries)\n",
    "bert_end = time.perf_counter() - bert_start"
   ]
  },
  {
   "cell_type": "code",
   "execution_count": 11,
   "id": "fbe67f17-3c14-41b8-acc4-502a7e4ad1e7",
   "metadata": {},
   "outputs": [
    {
     "name": "stdout",
     "output_type": "stream",
     "text": [
      "Current memory usage is 19.098954MB; Peak was 21.542339MB\n"
     ]
    }
   ],
   "source": [
    "current, peak = tracemalloc.get_traced_memory()   \n",
    "print(f\"Current memory usage is {current / 10**6}MB; Peak was {peak / 10**6}MB\")   \n",
    "tracemalloc.stop()"
   ]
  },
  {
   "cell_type": "code",
   "execution_count": 12,
   "id": "0f48f30b-fbab-4e11-8ccf-9bdd68d0203b",
   "metadata": {},
   "outputs": [
    {
     "name": "stdout",
     "output_type": "stream",
     "text": [
      "[0.8140881996572803, 0.8140881996572803]\n",
      "BERT calc time: 22.370334291999825 sec\n"
     ]
    }
   ],
   "source": [
    "print(bert_scores)\n",
    "print(\"BERT calc time:\", bert_end, \"sec\")"
   ]
  },
  {
   "cell_type": "markdown",
   "id": "34ef4a82-1ebb-4336-9cb6-ac5321a4736b",
   "metadata": {},
   "source": [
    "### RoBERTa"
   ]
  },
  {
   "cell_type": "code",
   "execution_count": 5,
   "id": "9fd84dee-dcb2-43cc-9af3-cf8830a89781",
   "metadata": {},
   "outputs": [],
   "source": [
    "tracemalloc.start()      "
   ]
  },
  {
   "cell_type": "code",
   "execution_count": 6,
   "id": "0e54f468-a9f2-44e8-8218-3637298b6ae0",
   "metadata": {},
   "outputs": [
    {
     "name": "stdout",
     "output_type": "stream",
     "text": [
      "[{'idx': 0, 'name': '0', 'path': '0_Transformer', 'type': 'sentence_transformers.models.RoBERTa'}, {'idx': 1, 'name': '1', 'path': '1_Pooling', 'type': 'sentence_transformers.models.Pooling'}]\n"
     ]
    }
   ],
   "source": [
    "roberta_start = time.perf_counter()\n",
    "roberta_supert = Supert(docs=source_docs, sentence_transformer='roberta-base-nli-stsb-mean-tokens')\n",
    "roberta_scores = roberta_supert(summaries)\n",
    "roberta_end = time.perf_counter() - roberta_start"
   ]
  },
  {
   "cell_type": "code",
   "execution_count": 7,
   "id": "d05f2318-cbcb-470d-81f0-6be978bf6bd8",
   "metadata": {},
   "outputs": [
    {
     "name": "stdout",
     "output_type": "stream",
     "text": [
      "Current memory usage is 40.70627MB; Peak was 45.134747MB\n"
     ]
    }
   ],
   "source": [
    "current, peak = tracemalloc.get_traced_memory()   \n",
    "print(f\"Current memory usage is {current / 10**6}MB; Peak was {peak / 10**6}MB\")   \n",
    "tracemalloc.stop()"
   ]
  },
  {
   "cell_type": "code",
   "execution_count": 8,
   "id": "92a4dc97-60f3-424a-803d-3a830e322cf0",
   "metadata": {},
   "outputs": [
    {
     "name": "stdout",
     "output_type": "stream",
     "text": [
      "[0.8320928335930917, 0.8320928335930917]\n",
      "RoBERTa calc time: 23.749510917 sec\n"
     ]
    }
   ],
   "source": [
    "print(roberta_scores)\n",
    "print(\"RoBERTa calc time:\", roberta_end, \"sec\")"
   ]
  },
  {
   "cell_type": "markdown",
   "id": "c1b78751-f103-4008-b777-f32ca6bc9d56",
   "metadata": {},
   "source": [
    "### ALBERT"
   ]
  },
  {
   "cell_type": "code",
   "execution_count": null,
   "id": "dedb739d-dbef-409e-8864-1d0860db7282",
   "metadata": {},
   "outputs": [],
   "source": [
    "albert_supert = Supert(docs=source_docs, sentence_transformer='paraphrase-albert-base-v2')\n",
    "scores = albert_supert(summaries)"
   ]
  },
  {
   "cell_type": "code",
   "execution_count": null,
   "id": "df5b6d12-d74d-4573-9de5-8967374e4222",
   "metadata": {},
   "outputs": [],
   "source": [
    "print(scores)"
   ]
  },
  {
   "cell_type": "markdown",
   "id": "ff3aeecf-2776-4c4f-977e-3cebaa60a9c4",
   "metadata": {},
   "source": [
    "### DistilBERT"
   ]
  },
  {
   "cell_type": "code",
   "execution_count": 5,
   "id": "49778491-a31a-4191-b393-faa6c7ec6b81",
   "metadata": {},
   "outputs": [],
   "source": [
    "tracemalloc.start()"
   ]
  },
  {
   "cell_type": "code",
   "execution_count": 6,
   "id": "8786997c-7f4d-42f6-a9c6-2b29c501c0b7",
   "metadata": {},
   "outputs": [
    {
     "name": "stdout",
     "output_type": "stream",
     "text": [
      "[{'idx': 0, 'name': '0', 'path': '0_Transformer', 'type': 'sentence_transformers.models.DistilBERT'}, {'idx': 1, 'name': '1', 'path': '1_Pooling', 'type': 'sentence_transformers.models.Pooling'}]\n"
     ]
    }
   ],
   "source": [
    "distilbert_start = time.perf_counter()\n",
    "distilbert_supert = Supert(docs=source_docs, sentence_transformer='distilbert-base-nli-stsb-mean-tokens')\n",
    "distilbert_scores = distilbert_supert(summaries)\n",
    "distilbert_end = time.perf_counter() - distilbert_start"
   ]
  },
  {
   "cell_type": "code",
   "execution_count": 7,
   "id": "ec2fdf2e-e407-4762-ba7f-b0ee312da62f",
   "metadata": {},
   "outputs": [
    {
     "name": "stdout",
     "output_type": "stream",
     "text": [
      "Current memory usage is 18.905437MB; Peak was 21.34021MB\n"
     ]
    }
   ],
   "source": [
    "current, peak = tracemalloc.get_traced_memory()   \n",
    "print(f\"Current memory usage is {current / 10**6}MB; Peak was {peak / 10**6}MB\")   \n",
    "tracemalloc.stop()"
   ]
  },
  {
   "cell_type": "code",
   "execution_count": 8,
   "id": "b8682a79-7fcf-4333-9a68-2dee3c34107b",
   "metadata": {},
   "outputs": [
    {
     "name": "stdout",
     "output_type": "stream",
     "text": [
      "[0.832189884651843, 0.832189884651843]\n",
      "DistilBERT calc time: 10.834976207999999 sec\n"
     ]
    }
   ],
   "source": [
    "print(distilbert_scores)\n",
    "print(\"DistilBERT calc time:\", distilbert_end, \"sec\")"
   ]
  },
  {
   "cell_type": "markdown",
   "id": "005c11f0-58c1-4546-a523-27250c6a9601",
   "metadata": {},
   "source": [
    "# Create Summaries with RL"
   ]
  },
  {
   "cell_type": "markdown",
   "id": "e9306189-f3c3-488e-b86b-ce103e5b1ae4",
   "metadata": {},
   "source": [
    "### RL Class from other py-script"
   ]
  },
  {
   "cell_type": "code",
   "execution_count": 9,
   "id": "b50e52ef-310a-4c9c-98b8-3c55bf2ecc5b",
   "metadata": {},
   "outputs": [],
   "source": [
    "from ref_free_metrics.supert import Supert\n",
    "from summariser.ngram_vector.vector_generator import Vectoriser\n",
    "from summariser.deep_td import DeepTDAgent as RLAgent\n",
    "from utils.data_reader import CorpusReader\n",
    "from utils.evaluator import evaluate_summary_rouge, add_result\n",
    "\n",
    "class RLSummarizer():\n",
    "    def __init__(self,reward_func, reward_strict=5.,rl_strict=5.,train_episode=5000, base_length=200, sample_summ_num=5000, gpu=False):\n",
    "        self.reward_func = reward_func\n",
    "        self.reward_strict = reward_strict\n",
    "        self.rl_strict = rl_strict\n",
    "        self.train_episode = train_episode\n",
    "        self.base_length = base_length\n",
    "        self.sample_summ_num = sample_summ_num\n",
    "        self.gpu = gpu\n",
    "\n",
    "    def get_sample_summaries(self, docs, summ_max_len=100):\n",
    "        vec = Vectoriser(docs,summ_max_len)\n",
    "        summary_list = vec.sample_random_summaries(self.sample_summ_num)\n",
    "        rewards = self.reward_func(summary_list)\n",
    "        assert len(summary_list) == len(rewards)\n",
    "        return summary_list, rewards\n",
    "\n",
    "    def summarize(self, docs, summ_max_len=100):\n",
    "        # generate sample summaries for memory replay\n",
    "        summaries, rewards = self.get_sample_summaries(docs, summ_max_len)\n",
    "        vec = Vectoriser(docs,base=self.base_length)\n",
    "        rl_agent = RLAgent(vec, summaries, strict_para=self.rl_strict, train_round=self.train_episode, gpu=self.gpu)\n",
    "        summary = rl_agent(rewards)\n",
    "        return summary"
   ]
  },
  {
   "cell_type": "code",
   "execution_count": 10,
   "id": "964345ab-7778-40ff-9656-aef26c932d10",
   "metadata": {},
   "outputs": [
    {
     "name": "stderr",
     "output_type": "stream",
     "text": [
      "generating samples for memory replay: 100%|██████████| 5000/5000 [00:06<00:00, 727.19it/s]\n",
      "neural-rl training episodes: 100%|██████████| 5000/5000 [00:38<00:00, 130.23it/s]\n"
     ]
    },
    {
     "name": "stdout",
     "output_type": "stream",
     "text": [
      "Alvarez is likely to face at least 10 counts of murder, the chief said. The driver of the SUV, identified as Juan Manuel Alvarez, 25, of Compton, Calif., was taken into custody, and police said he would be charged with homicide. A counterterrorism command post was set up near the crash site, but authorities determined within an hour that the disaster was almost certainly the work of one troubled man. He said he got on train 100 at 5:19 a.m. in Simi Valley. ``This is a complete outrage.'' He was told she was taken to the hospital and released. ...\n"
     ]
    }
   ],
   "source": [
    "# generate summaries using reinforcement learning, with supert as reward function\n",
    "rl_summarizer = RLSummarizer(reward_func = distilbert_supert, gpu = False)\n",
    "summary = rl_summarizer.summarize(source_docs, summ_max_len=100)\n",
    "\n",
    "# print out the generated summary\n",
    "print(summary)"
   ]
  },
  {
   "cell_type": "code",
   "execution_count": 5,
   "id": "ce1b0bf0-7b44-436d-9879-1779121103dc",
   "metadata": {},
   "outputs": [],
   "source": [
    "summary = \"Alvarez is likely to face at least 10 counts of murder, the chief said. The driver of the SUV, identified as Juan Manuel Alvarez, 25, of Compton, Calif., was taken into custody, and police said he would be charged with homicide. A counterterrorism command post was set up near the crash site, but authorities determined within an hour that the disaster was almost certainly the work of one troubled man. He said he got on train 100 at 5:19 a.m. in Simi Valley. ``This is a complete outrage.'' He was told she was taken to the hospital and released.\""
   ]
  },
  {
   "cell_type": "code",
   "execution_count": 6,
   "id": "022889cb-7e41-4a0a-a335-dd4b43bb79c2",
   "metadata": {},
   "outputs": [
    {
     "name": "stdout",
     "output_type": "stream",
     "text": [
      "execute_rouge command is perl /Users/dwarakvittal/Documents/Projekte/NLP_Metric/SUPERT/rouge/ROUGE-RELEASE-1.5.5/ROUGE-1.5.5.pl\n",
      "2\n",
      "2\n"
     ]
    },
    {
     "ename": "AttributeError",
     "evalue": "'int' object has no attribute 'decode'",
     "output_type": "error",
     "traceback": [
      "\u001b[0;31m---------------------------------------------------------------------------\u001b[0m",
      "\u001b[0;31mAttributeError\u001b[0m                            Traceback (most recent call last)",
      "\u001b[0;32m<ipython-input-6-a2cb7c161f64>\u001b[0m in \u001b[0;36m<module>\u001b[0;34m\u001b[0m\n\u001b[1;32m      1\u001b[0m \u001b[0mrouge_scores\u001b[0m \u001b[0;34m=\u001b[0m \u001b[0;34m{\u001b[0m\u001b[0;34m}\u001b[0m\u001b[0;34m\u001b[0m\u001b[0;34m\u001b[0m\u001b[0m\n\u001b[1;32m      2\u001b[0m \u001b[0;32mfor\u001b[0m \u001b[0mref\u001b[0m \u001b[0;32min\u001b[0m \u001b[0mrefs\u001b[0m\u001b[0;34m:\u001b[0m\u001b[0;34m\u001b[0m\u001b[0;34m\u001b[0m\u001b[0m\n\u001b[0;32m----> 3\u001b[0;31m     \u001b[0mrs\u001b[0m \u001b[0;34m=\u001b[0m \u001b[0mevaluate_summary_rouge\u001b[0m\u001b[0;34m(\u001b[0m\u001b[0msummary\u001b[0m\u001b[0;34m,\u001b[0m \u001b[0mref\u001b[0m\u001b[0;34m)\u001b[0m\u001b[0;34m\u001b[0m\u001b[0;34m\u001b[0m\u001b[0m\n\u001b[0m\u001b[1;32m      4\u001b[0m     \u001b[0madd_result\u001b[0m\u001b[0;34m(\u001b[0m\u001b[0mrouge_scores\u001b[0m\u001b[0;34m,\u001b[0m \u001b[0mrs\u001b[0m\u001b[0;34m)\u001b[0m\u001b[0;34m\u001b[0m\u001b[0;34m\u001b[0m\u001b[0m\n\u001b[1;32m      5\u001b[0m \u001b[0mmm\u001b[0m \u001b[0;34m=\u001b[0m \u001b[0;34m'ROUGE-1'\u001b[0m\u001b[0;34m\u001b[0m\u001b[0;34m\u001b[0m\u001b[0m\n",
      "\u001b[0;32m~/Documents/Projekte/NLP_Metric/SUPERT/utils/evaluator.py\u001b[0m in \u001b[0;36mevaluate_summary_rouge\u001b[0;34m(cand, model, max_sum_len)\u001b[0m\n\u001b[1;32m     17\u001b[0m \u001b[0;32mdef\u001b[0m \u001b[0mevaluate_summary_rouge\u001b[0m\u001b[0;34m(\u001b[0m\u001b[0mcand\u001b[0m\u001b[0;34m,\u001b[0m\u001b[0mmodel\u001b[0m\u001b[0;34m,\u001b[0m\u001b[0mmax_sum_len\u001b[0m\u001b[0;34m=\u001b[0m\u001b[0;36m100\u001b[0m\u001b[0;34m)\u001b[0m\u001b[0;34m:\u001b[0m\u001b[0;34m\u001b[0m\u001b[0;34m\u001b[0m\u001b[0m\n\u001b[1;32m     18\u001b[0m     \u001b[0mrouge_scorer\u001b[0m \u001b[0;34m=\u001b[0m \u001b[0mRouge\u001b[0m\u001b[0;34m(\u001b[0m\u001b[0mROUGE_DIR\u001b[0m\u001b[0;34m,\u001b[0m\u001b[0mBASE_DIR\u001b[0m\u001b[0;34m,\u001b[0m\u001b[0;32mTrue\u001b[0m\u001b[0;34m)\u001b[0m\u001b[0;34m\u001b[0m\u001b[0;34m\u001b[0m\u001b[0m\n\u001b[0;32m---> 19\u001b[0;31m     \u001b[0mr1\u001b[0m\u001b[0;34m,\u001b[0m \u001b[0mr2\u001b[0m\u001b[0;34m,\u001b[0m \u001b[0mrl\u001b[0m\u001b[0;34m,\u001b[0m \u001b[0mrsu4\u001b[0m \u001b[0;34m=\u001b[0m \u001b[0mrouge_scorer\u001b[0m\u001b[0;34m(\u001b[0m\u001b[0mcand\u001b[0m\u001b[0;34m,\u001b[0m\u001b[0;34m[\u001b[0m\u001b[0mmodel\u001b[0m\u001b[0;34m]\u001b[0m\u001b[0;34m,\u001b[0m\u001b[0mmax_sum_len\u001b[0m\u001b[0;34m)\u001b[0m\u001b[0;34m\u001b[0m\u001b[0;34m\u001b[0m\u001b[0m\n\u001b[0m\u001b[1;32m     20\u001b[0m     \u001b[0mrouge_scorer\u001b[0m\u001b[0;34m.\u001b[0m\u001b[0mclean\u001b[0m\u001b[0;34m(\u001b[0m\u001b[0;34m)\u001b[0m\u001b[0;34m\u001b[0m\u001b[0;34m\u001b[0m\u001b[0m\n\u001b[1;32m     21\u001b[0m     \u001b[0mdic\u001b[0m \u001b[0;34m=\u001b[0m \u001b[0mOrderedDict\u001b[0m\u001b[0;34m(\u001b[0m\u001b[0;34m)\u001b[0m\u001b[0;34m\u001b[0m\u001b[0;34m\u001b[0m\u001b[0m\n",
      "\u001b[0;32m~/Documents/Projekte/NLP_Metric/SUPERT/rouge/rouge.py\u001b[0m in \u001b[0;36m__call__\u001b[0;34m(self, summary, models, summary_len)\u001b[0m\n\u001b[1;32m    127\u001b[0m         \u001b[0;31m#self.ROUGE_ARGS = '-m -s -p 0 %s' % (summary_len)\u001b[0m\u001b[0;34m\u001b[0m\u001b[0;34m\u001b[0m\u001b[0;34m\u001b[0m\u001b[0m\n\u001b[1;32m    128\u001b[0m \u001b[0;34m\u001b[0m\u001b[0m\n\u001b[0;32m--> 129\u001b[0;31m         \u001b[0;32mreturn\u001b[0m \u001b[0mself\u001b[0m\u001b[0;34m.\u001b[0m\u001b[0mget_scores\u001b[0m\u001b[0;34m(\u001b[0m\u001b[0msummary\u001b[0m\u001b[0;34m,\u001b[0m \u001b[0mmodels\u001b[0m\u001b[0;34m)\u001b[0m\u001b[0;34m\u001b[0m\u001b[0;34m\u001b[0m\u001b[0m\n\u001b[0m",
      "\u001b[0;32m~/Documents/Projekte/NLP_Metric/SUPERT/rouge/rouge.py\u001b[0m in \u001b[0;36mget_scores\u001b[0;34m(self, summary, models)\u001b[0m\n\u001b[1;32m    100\u001b[0m         \u001b[0mprint\u001b[0m\u001b[0;34m(\u001b[0m\u001b[0mresult\u001b[0m\u001b[0;34m)\u001b[0m\u001b[0;34m\u001b[0m\u001b[0;34m\u001b[0m\u001b[0m\n\u001b[1;32m    101\u001b[0m \u001b[0;34m\u001b[0m\u001b[0m\n\u001b[0;32m--> 102\u001b[0;31m         \u001b[0mresult_dict\u001b[0m \u001b[0;34m=\u001b[0m \u001b[0mself\u001b[0m\u001b[0;34m.\u001b[0m\u001b[0mextract_results\u001b[0m\u001b[0;34m(\u001b[0m\u001b[0mresult\u001b[0m\u001b[0;34m.\u001b[0m\u001b[0mdecode\u001b[0m\u001b[0;34m(\u001b[0m\u001b[0;34m'utf-8'\u001b[0m\u001b[0;34m)\u001b[0m\u001b[0;34m)\u001b[0m\u001b[0;34m\u001b[0m\u001b[0;34m\u001b[0m\u001b[0m\n\u001b[0m\u001b[1;32m    103\u001b[0m \u001b[0;34m\u001b[0m\u001b[0m\n\u001b[1;32m    104\u001b[0m         \u001b[0mR1score\u001b[0m \u001b[0;34m=\u001b[0m \u001b[0mfloat\u001b[0m\u001b[0;34m(\u001b[0m\u001b[0mresult_dict\u001b[0m\u001b[0;34m[\u001b[0m\u001b[0;34m\"1\"\u001b[0m\u001b[0;34m]\u001b[0m\u001b[0;34m[\u001b[0m\u001b[0;34m'ROUGE-1 R'\u001b[0m\u001b[0;34m]\u001b[0m\u001b[0;34m)\u001b[0m\u001b[0;34m\u001b[0m\u001b[0;34m\u001b[0m\u001b[0m\n",
      "\u001b[0;31mAttributeError\u001b[0m: 'int' object has no attribute 'decode'"
     ]
    }
   ],
   "source": [
    "rouge_scores = {}\n",
    "for ref in refs:\n",
    "    rs = evaluate_summary_rouge(summary, ref)\n",
    "    add_result(rouge_scores, rs)\n",
    "mm = 'ROUGE-1'\n",
    "print('reference-based',np.mean(rouge_scores[mm]),'\\n',rouge_scores)"
   ]
  },
  {
   "cell_type": "code",
   "execution_count": null,
   "id": "c1d1c30f-4f22-48e5-8576-391fb12d512f",
   "metadata": {},
   "outputs": [],
   "source": []
  }
 ],
 "metadata": {
  "kernelspec": {
   "display_name": "Python 3",
   "language": "python",
   "name": "python3"
  },
  "language_info": {
   "codemirror_mode": {
    "name": "ipython",
    "version": 3
   },
   "file_extension": ".py",
   "mimetype": "text/x-python",
   "name": "python",
   "nbconvert_exporter": "python",
   "pygments_lexer": "ipython3",
   "version": "3.9.4"
  }
 },
 "nbformat": 4,
 "nbformat_minor": 5
}
