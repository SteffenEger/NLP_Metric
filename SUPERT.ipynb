{
 "cells": [
  {
   "cell_type": "markdown",
   "id": "10fda35f-7176-4555-afd5-de57d31899af",
   "metadata": {},
   "source": [
    "# SUPERT "
   ]
  },
  {
   "cell_type": "markdown",
   "id": "d081295f-ff6c-4b7d-8a37-dcec454940e8",
   "metadata": {},
   "source": [
    "Example code for using the supert metrics"
   ]
  },
  {
   "cell_type": "code",
   "execution_count": 1,
   "id": "3ed7d641-023c-49d6-a2fa-43dfcfe95f65",
   "metadata": {},
   "outputs": [],
   "source": [
    "import sys\n",
    "sys.path.append(\"SUPERT\")"
   ]
  },
  {
   "cell_type": "code",
   "execution_count": 3,
   "id": "e1f817a1-9fe9-45ec-b1f0-eab1800a5af4",
   "metadata": {},
   "outputs": [
    {
     "ename": "ImportError",
     "evalue": "cannot import name 'BASE_DIR' from 'resources' (/Users/dwarakvittal/miniforge3/envs/nlp-metric/lib/python3.9/site-packages/resources.py)",
     "output_type": "error",
     "traceback": [
      "\u001b[0;31m---------------------------------------------------------------------------\u001b[0m",
      "\u001b[0;31mImportError\u001b[0m                               Traceback (most recent call last)",
      "\u001b[0;32m<ipython-input-3-385761d7a87a>\u001b[0m in \u001b[0;36m<module>\u001b[0;34m\u001b[0m\n\u001b[1;32m      1\u001b[0m \u001b[0;32mfrom\u001b[0m \u001b[0mref_free_metrics\u001b[0m\u001b[0;34m.\u001b[0m\u001b[0msupert\u001b[0m \u001b[0;32mimport\u001b[0m \u001b[0mSupert\u001b[0m\u001b[0;34m\u001b[0m\u001b[0;34m\u001b[0m\u001b[0m\n\u001b[0;32m----> 2\u001b[0;31m \u001b[0;32mfrom\u001b[0m \u001b[0mutils\u001b[0m\u001b[0;34m.\u001b[0m\u001b[0mdata_reader\u001b[0m \u001b[0;32mimport\u001b[0m \u001b[0mCorpusReader\u001b[0m\u001b[0;34m\u001b[0m\u001b[0;34m\u001b[0m\u001b[0m\n\u001b[0m",
      "\u001b[0;32m~/Documents/Projekte/NLP_Metric/SUPERT/utils/data_reader.py\u001b[0m in \u001b[0;36m<module>\u001b[0;34m\u001b[0m\n\u001b[1;32m      6\u001b[0m \u001b[0;32mfrom\u001b[0m \u001b[0mnltk\u001b[0m\u001b[0;34m.\u001b[0m\u001b[0mtokenize\u001b[0m \u001b[0;32mimport\u001b[0m \u001b[0msent_tokenize\u001b[0m\u001b[0;34m\u001b[0m\u001b[0;34m\u001b[0m\u001b[0m\n\u001b[1;32m      7\u001b[0m \u001b[0;34m\u001b[0m\u001b[0m\n\u001b[0;32m----> 8\u001b[0;31m \u001b[0;32mfrom\u001b[0m \u001b[0mresources\u001b[0m \u001b[0;32mimport\u001b[0m \u001b[0mBASE_DIR\u001b[0m\u001b[0;34m\u001b[0m\u001b[0;34m\u001b[0m\u001b[0m\n\u001b[0m\u001b[1;32m      9\u001b[0m \u001b[0;34m\u001b[0m\u001b[0m\n\u001b[1;32m     10\u001b[0m \u001b[0;32mclass\u001b[0m \u001b[0mCorpusReader\u001b[0m\u001b[0;34m:\u001b[0m\u001b[0;34m\u001b[0m\u001b[0;34m\u001b[0m\u001b[0m\n",
      "\u001b[0;31mImportError\u001b[0m: cannot import name 'BASE_DIR' from 'resources' (/Users/dwarakvittal/miniforge3/envs/nlp-metric/lib/python3.9/site-packages/resources.py)"
     ]
    }
   ],
   "source": [
    "from ref_free_metrics.supert import Supert\n",
    "from utils.data_reader import CorpusReader"
   ]
  },
  {
   "cell_type": "code",
   "execution_count": null,
   "id": "9ace5438-9137-44ab-817a-5d4e6ba5c939",
   "metadata": {},
   "outputs": [],
   "source": [
    "# read docs and summaries\n",
    "reader = CorpusReader('SUPERT/data/topic_1')\n",
    "source_docs = reader()\n",
    "summaries = reader.readSummaries() "
   ]
  },
  {
   "cell_type": "code",
   "execution_count": null,
   "id": "f5e78cfb-dea8-4f36-94dd-63c51937dca0",
   "metadata": {},
   "outputs": [],
   "source": [
    "# compute the Supert scores\n",
    "supert = Supert(source_docs) \n",
    "scores = supert(summaries)\n",
    "print(scores)"
   ]
  },
  {
   "cell_type": "code",
   "execution_count": null,
   "id": "964345ab-7778-40ff-9656-aef26c932d10",
   "metadata": {},
   "outputs": [],
   "source": [
    "# generate summaries using reinforcement learning, with supert as reward function\n",
    "supert = Supert(source_docs)\n",
    "rl_summarizer = RLSummarizer(reward_func = supert)\n",
    "summary = rl_summarizer.summarize(source_docs, summ_max_len=100)\n",
    "\n",
    "# print out the generated summary\n",
    "print(summary)"
   ]
  }
 ],
 "metadata": {
  "kernelspec": {
   "display_name": "Python 3",
   "language": "python",
   "name": "python3"
  },
  "language_info": {
   "codemirror_mode": {
    "name": "ipython",
    "version": 3
   },
   "file_extension": ".py",
   "mimetype": "text/x-python",
   "name": "python",
   "nbconvert_exporter": "python",
   "pygments_lexer": "ipython3",
   "version": "3.9.4"
  }
 },
 "nbformat": 4,
 "nbformat_minor": 5
}
