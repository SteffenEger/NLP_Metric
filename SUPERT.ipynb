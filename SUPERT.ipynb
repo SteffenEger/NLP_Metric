{
 "cells": [
  {
   "cell_type": "markdown",
   "id": "10fda35f-7176-4555-afd5-de57d31899af",
   "metadata": {},
   "source": [
    "# SUPERT "
   ]
  },
  {
   "cell_type": "markdown",
   "id": "d081295f-ff6c-4b7d-8a37-dcec454940e8",
   "metadata": {},
   "source": [
    "Example code for using the supert metrics\n",
    "\n",
    "- Paper: https://arxiv.org/abs/2005.03724\n",
    "- Git-Project: https://github.com/danieldeutsch/SUPERT"
   ]
  },
  {
   "cell_type": "code",
   "execution_count": 1,
   "id": "3ed7d641-023c-49d6-a2fa-43dfcfe95f65",
   "metadata": {},
   "outputs": [],
   "source": [
    "import sys\n",
    "sys.path.append(\"SUPERT\")"
   ]
  },
  {
   "cell_type": "code",
   "execution_count": 2,
   "id": "5e53e93e-6592-47ac-9cb3-6a96b6dd7722",
   "metadata": {},
   "outputs": [
    {
     "name": "stderr",
     "output_type": "stream",
     "text": [
      "[nltk_data] Downloading package punkt to\n",
      "[nltk_data]     /Users/dwarakvittal/nltk_data...\n",
      "[nltk_data]   Package punkt is already up-to-date!\n",
      "[nltk_data] Downloading package stopwords to\n",
      "[nltk_data]     /Users/dwarakvittal/nltk_data...\n",
      "[nltk_data]   Package stopwords is already up-to-date!\n"
     ]
    },
    {
     "data": {
      "text/plain": [
       "True"
      ]
     },
     "execution_count": 2,
     "metadata": {},
     "output_type": "execute_result"
    }
   ],
   "source": [
    "# to get the reader working\n",
    "import nltk\n",
    "nltk.download('punkt')\n",
    "nltk.download('stopwords')"
   ]
  },
  {
   "cell_type": "code",
   "execution_count": 3,
   "id": "e1f817a1-9fe9-45ec-b1f0-eab1800a5af4",
   "metadata": {},
   "outputs": [],
   "source": [
    "from ref_free_metrics.supert import Supert\n",
    "from utils.data_reader import CorpusReader"
   ]
  },
  {
   "cell_type": "code",
   "execution_count": 4,
   "id": "9ace5438-9137-44ab-817a-5d4e6ba5c939",
   "metadata": {},
   "outputs": [],
   "source": [
    "# read docs and summaries\n",
    "reader = CorpusReader('SUPERT/data/topic_1')\n",
    "source_docs = reader()\n",
    "summaries = reader.readSummaries() "
   ]
  },
  {
   "cell_type": "markdown",
   "id": "8f2cc19f-2c04-4494-9fc9-0075903932a6",
   "metadata": {},
   "source": [
    "# Evaluate Summaries"
   ]
  },
  {
   "cell_type": "code",
   "execution_count": 5,
   "id": "f5e78cfb-dea8-4f36-94dd-63c51937dca0",
   "metadata": {},
   "outputs": [],
   "source": [
    "# compute the Supert scores\n",
    "supert = Supert(docs=source_docs) \n",
    "#supert.load_documents(source_docs)\n",
    "scores = supert(summaries)"
   ]
  },
  {
   "cell_type": "code",
   "execution_count": 8,
   "id": "0f48f30b-fbab-4e11-8ccf-9bdd68d0203b",
   "metadata": {},
   "outputs": [
    {
     "name": "stdout",
     "output_type": "stream",
     "text": [
      "2\n",
      "(['summary1.txt', 'summary2.txt', 'summary3.txt', 'summary4.txt', 'summary5.txt'], ['Juan Miguel Alvarez, charged with murder with special circumstances in the deaths of 11 Metrolink passengers, slashed and stabbed himself after seeing the horrific train crash he caused, sources close to the investigation said Thursday. Alvarez, 25, despondent over the breakup of his marriage, had planned to kill himself when he drove his green Jeep Grand Cherokee in the path of a Metrolink train, officials said, but he bolted from the vehicle at the last moment. As he watched, southbound Train No.\\n', 'Until Wednesday, Juan Manuel Alvarez was living the average life of an obscure and troubled man.It had to be the worst multicasualty incident Ive been to, Los Angeles Fire Capt. Rick Godinez said.David Morrison, 47, an attorney, was heading to downtown Los Angeles on his regular morning commute. With his tire, apparently caught between the tracks, Mr. Alvarez jumped out of the Jeep and ran. But, Mrs. Alvarez was tracked to a modest home in the north section of Compton. In filing the charges, Cooley said he was unmoved by Alvarezs emotional state before the crash.\\n', \"Authorities believe Juan Manuel Alvarez drove his Jeep Grand Cherokee around the rail crossing barrier and onto the Metrolink train tracks at Chevy Chase Drive in Glendale about 6 a.m. Wednesday. A 25-year-old man was arrested following Wednesday's commuter train collision that killed at least 10 people near downtown Los Angeles. He apparently changed his mind about killing himself, abandoned the vehicle and watched the crash, the Glendale police chief, Randy G. Adams, said. Alvarez is accused of leaving a Jeep Cherokee on the tracks, causing the derailment of one train, which then crashed into another.\\n\", \"Los Angeles County prosecutors on Thursday charged a man with 11 counts of murder, one for every person who died in a violent three-train wreck that they say he caused by driving the man's Jeep onto commuter railroad tracks in a botched suicide attempt. Police arrested a man who they said would be charged with homicide in the crash that left train cars mangled and seared. At 6:02 a.m., the three-car Train 100, headed from Moorpark to Union Station, with the locomotive in the rear, crashed into the SUV.\\n\", 'A southbound commuter train heading to downtown Los Angeles hit the Jeep Grand Cherokee parked on the tracks, said Glendale Police Chief Randy G. Adams. But then in the early morning darkness of Wednesday, Juan Manuel Alvarez introduced his troubled life to the world when he drove his Jeep Cherokee onto the commuter railroad tracks of Glendale in metropolitan Los Angeles, killing at least 10 people and injuring about 200 more. Glendale Police Chief Adams said Alvarez will be facing at least 10 counts of homicide. Glendale Police Chief Adams said Alvarez-watched the chaos after fleeing his vehicle.\\n'])\n",
      "[0.8140101574778988, 0.8140101574778988]\n"
     ]
    }
   ],
   "source": [
    "print(len(summaries))\n",
    "print(summaries)\n",
    "print(scores)"
   ]
  },
  {
   "cell_type": "markdown",
   "id": "e9306189-f3c3-488e-b86b-ce103e5b1ae4",
   "metadata": {},
   "source": [
    "### RL Class from other py-script"
   ]
  },
  {
   "cell_type": "code",
   "execution_count": 9,
   "id": "b50e52ef-310a-4c9c-98b8-3c55bf2ecc5b",
   "metadata": {},
   "outputs": [],
   "source": [
    "from ref_free_metrics.supert import Supert\n",
    "from summariser.ngram_vector.vector_generator import Vectoriser\n",
    "from summariser.deep_td import DeepTDAgent as RLAgent\n",
    "from utils.data_reader import CorpusReader\n",
    "from utils.evaluator import evaluate_summary_rouge, add_result\n",
    "\n",
    "class RLSummarizer():\n",
    "    def __init__(self,reward_func, reward_strict=5.,rl_strict=5.,train_episode=5000, base_length=200, sample_summ_num=5000, gpu=False):\n",
    "        self.reward_func = reward_func\n",
    "        self.reward_strict = reward_strict\n",
    "        self.rl_strict = rl_strict\n",
    "        self.train_episode = train_episode\n",
    "        self.base_length = base_length\n",
    "        self.sample_summ_num = sample_summ_num\n",
    "        self.gpu = gpu\n",
    "\n",
    "    def get_sample_summaries(self, docs, summ_max_len=100):\n",
    "        vec = Vectoriser(docs,summ_max_len)\n",
    "        summary_list = vec.sample_random_summaries(self.sample_summ_num)\n",
    "        rewards = self.reward_func(summary_list)\n",
    "        assert len(summary_list) == len(rewards)\n",
    "        return summary_list, rewards\n",
    "\n",
    "    def summarize(self, docs, summ_max_len=100):\n",
    "        # generate sample summaries for memory replay\n",
    "        summaries, rewards = self.get_sample_summaries(docs, summ_max_len)\n",
    "        vec = Vectoriser(docs,base=self.base_length)\n",
    "        rl_agent = RLAgent(vec, summaries, strict_para=self.rl_strict, train_round=self.train_episode, gpu=self.gpu)\n",
    "        summary = rl_agent(rewards)\n",
    "        return summary"
   ]
  },
  {
   "cell_type": "markdown",
   "id": "005c11f0-58c1-4546-a523-27250c6a9601",
   "metadata": {},
   "source": [
    "# Create Summaries with RL"
   ]
  },
  {
   "cell_type": "code",
   "execution_count": 10,
   "id": "964345ab-7778-40ff-9656-aef26c932d10",
   "metadata": {},
   "outputs": [
    {
     "name": "stderr",
     "output_type": "stream",
     "text": [
      "generating samples for memory replay: 100%|██████████| 5000/5000 [00:06<00:00, 718.91it/s]\n",
      "neural-rl training episodes: 100%|██████████| 5000/5000 [00:39<00:00, 127.07it/s]\n"
     ]
    },
    {
     "name": "stdout",
     "output_type": "stream",
     "text": [
      "Distraught and remorseful, Alvarez told police he had left the vehicle and watched the derailment, Adams said. ``I think his intent at that time was to take his own life, but (he) changed his mind prior to the train actually striking the vehicle.'' At 6:02 a.m., the three-car Train 100, headed from Moorpark to Union Station, with the locomotive in the rear, crashed into the SUV. Until Wednesday, Juan Manuel Alvarez was living the average life of an obscure and troubled man. Adams identified the suspect as Juan Manuel Alvarez, 25, of Compton, adding that he had attempted suicide before.\n"
     ]
    }
   ],
   "source": [
    "# generate summaries using reinforcement learning, with supert as reward function\n",
    "supert = Supert(source_docs)\n",
    "rl_summarizer = RLSummarizer(reward_func = supert, gpu = False)\n",
    "summary = rl_summarizer.summarize(source_docs, summ_max_len=100)\n",
    "\n",
    "# print out the generated summary\n",
    "print(summary)"
   ]
  },
  {
   "cell_type": "code",
   "execution_count": null,
   "id": "022889cb-7e41-4a0a-a335-dd4b43bb79c2",
   "metadata": {},
   "outputs": [],
   "source": []
  }
 ],
 "metadata": {
  "kernelspec": {
   "display_name": "Python 3",
   "language": "python",
   "name": "python3"
  },
  "language_info": {
   "codemirror_mode": {
    "name": "ipython",
    "version": 3
   },
   "file_extension": ".py",
   "mimetype": "text/x-python",
   "name": "python",
   "nbconvert_exporter": "python",
   "pygments_lexer": "ipython3",
   "version": "3.9.4"
  }
 },
 "nbformat": 4,
 "nbformat_minor": 5
}
