{
 "cells": [
  {
   "cell_type": "markdown",
   "id": "10fda35f-7176-4555-afd5-de57d31899af",
   "metadata": {},
   "source": [
    "# SUPERT "
   ]
  },
  {
   "cell_type": "markdown",
   "id": "d081295f-ff6c-4b7d-8a37-dcec454940e8",
   "metadata": {},
   "source": [
    "Example code for using the supert metrics\n",
    "\n",
    "- Paper: https://arxiv.org/abs/2005.03724\n",
    "- Git-Project: https://github.com/danieldeutsch/SUPERT"
   ]
  },
  {
   "cell_type": "code",
   "execution_count": 1,
   "id": "3ed7d641-023c-49d6-a2fa-43dfcfe95f65",
   "metadata": {},
   "outputs": [],
   "source": [
    "import sys\n",
    "sys.path.append(\"SUPERT\")\n",
    "import time\n",
    "import tracemalloc \n",
    "import numpy as np"
   ]
  },
  {
   "cell_type": "code",
   "execution_count": 2,
   "id": "5e53e93e-6592-47ac-9cb3-6a96b6dd7722",
   "metadata": {},
   "outputs": [
    {
     "name": "stderr",
     "output_type": "stream",
     "text": [
      "[nltk_data] Downloading package punkt to\n",
      "[nltk_data]     /Users/dwarakvittal/nltk_data...\n",
      "[nltk_data]   Package punkt is already up-to-date!\n",
      "[nltk_data] Downloading package stopwords to\n",
      "[nltk_data]     /Users/dwarakvittal/nltk_data...\n",
      "[nltk_data]   Package stopwords is already up-to-date!\n"
     ]
    },
    {
     "data": {
      "text/plain": [
       "True"
      ]
     },
     "execution_count": 2,
     "metadata": {},
     "output_type": "execute_result"
    }
   ],
   "source": [
    "# to get the reader working\n",
    "import nltk\n",
    "nltk.download('punkt')\n",
    "nltk.download('stopwords')"
   ]
  },
  {
   "cell_type": "code",
   "execution_count": 3,
   "id": "e1f817a1-9fe9-45ec-b1f0-eab1800a5af4",
   "metadata": {},
   "outputs": [],
   "source": [
    "from ref_free_metrics.supert import Supert\n",
    "from utils.data_reader import CorpusReader\n",
    "from utils.evaluator import evaluate_summary_rouge, add_result"
   ]
  },
  {
   "cell_type": "code",
   "execution_count": 4,
   "id": "9ace5438-9137-44ab-817a-5d4e6ba5c939",
   "metadata": {},
   "outputs": [],
   "source": [
    "# read docs and summaries\n",
    "reader = CorpusReader('SUPERT/data/topic_1')\n",
    "source_docs = reader()\n",
    "summaries = reader.readSummaries() \n",
    "refs = reader.readReferences()"
   ]
  },
  {
   "cell_type": "markdown",
   "id": "8f2cc19f-2c04-4494-9fc9-0075903932a6",
   "metadata": {},
   "source": [
    "# Evaluate Summaries"
   ]
  },
  {
   "cell_type": "markdown",
   "id": "dc294cf6-93dc-4150-9532-6e300f7e4528",
   "metadata": {},
   "source": [
    "### BERT"
   ]
  },
  {
   "cell_type": "code",
   "execution_count": 5,
   "id": "306bca16-f668-44c7-aa61-5ceb04aa67e2",
   "metadata": {},
   "outputs": [],
   "source": [
    "tracemalloc.start()      "
   ]
  },
  {
   "cell_type": "code",
   "execution_count": 6,
   "id": "f5e78cfb-dea8-4f36-94dd-63c51937dca0",
   "metadata": {},
   "outputs": [
    {
     "name": "stdout",
     "output_type": "stream",
     "text": [
      "[{'idx': 0, 'name': '0', 'path': '0_BERT', 'type': 'sentence_transformers.models.BERT'}, {'idx': 1, 'name': '1', 'path': '1_Pooling', 'type': 'sentence_transformers.models.Pooling'}]\n"
     ]
    }
   ],
   "source": [
    "bert_start = time.perf_counter()\n",
    "# compute the Supert scores\n",
    "supert = Supert(docs=source_docs, sentence_transformer='bert-base-nli-stsb-mean-tokens')\n",
    "bert_scores = supert(summaries)\n",
    "bert_end = time.perf_counter() - bert_start"
   ]
  },
  {
   "cell_type": "code",
   "execution_count": 7,
   "id": "fbe67f17-3c14-41b8-acc4-502a7e4ad1e7",
   "metadata": {},
   "outputs": [
    {
     "name": "stdout",
     "output_type": "stream",
     "text": [
      "Current memory usage is 19.27694MB; Peak was 21.71365MB\n"
     ]
    }
   ],
   "source": [
    "current, peak = tracemalloc.get_traced_memory()   \n",
    "print(f\"Current memory usage is {current / 10**6}MB; Peak was {peak / 10**6}MB\")   \n",
    "tracemalloc.stop()"
   ]
  },
  {
   "cell_type": "code",
   "execution_count": 8,
   "id": "0f48f30b-fbab-4e11-8ccf-9bdd68d0203b",
   "metadata": {},
   "outputs": [
    {
     "name": "stdout",
     "output_type": "stream",
     "text": [
      "[0.8140881996572805, 0.8140881996572805]\n",
      "BERT calc time: 23.014478084 sec\n"
     ]
    }
   ],
   "source": [
    "print(bert_scores)\n",
    "print(\"BERT calc time:\", bert_end, \"sec\")"
   ]
  },
  {
   "cell_type": "markdown",
   "id": "34ef4a82-1ebb-4336-9cb6-ac5321a4736b",
   "metadata": {},
   "source": [
    "### RoBERTa"
   ]
  },
  {
   "cell_type": "code",
   "execution_count": 9,
   "id": "9fd84dee-dcb2-43cc-9af3-cf8830a89781",
   "metadata": {},
   "outputs": [],
   "source": [
    "tracemalloc.start()      "
   ]
  },
  {
   "cell_type": "code",
   "execution_count": 10,
   "id": "0e54f468-a9f2-44e8-8218-3637298b6ae0",
   "metadata": {},
   "outputs": [
    {
     "name": "stdout",
     "output_type": "stream",
     "text": [
      "[{'idx': 0, 'name': '0', 'path': '0_Transformer', 'type': 'sentence_transformers.models.RoBERTa'}, {'idx': 1, 'name': '1', 'path': '1_Pooling', 'type': 'sentence_transformers.models.Pooling'}]\n"
     ]
    }
   ],
   "source": [
    "roberta_start = time.perf_counter()\n",
    "roberta_supert = Supert(docs=source_docs, sentence_transformer='roberta-base-nli-stsb-mean-tokens')\n",
    "roberta_scores = roberta_supert(summaries)\n",
    "roberta_end = time.perf_counter() - roberta_start"
   ]
  },
  {
   "cell_type": "code",
   "execution_count": 11,
   "id": "d05f2318-cbcb-470d-81f0-6be978bf6bd8",
   "metadata": {},
   "outputs": [
    {
     "name": "stdout",
     "output_type": "stream",
     "text": [
      "Current memory usage is 40.437305MB; Peak was 44.87028MB\n"
     ]
    }
   ],
   "source": [
    "current, peak = tracemalloc.get_traced_memory()   \n",
    "print(f\"Current memory usage is {current / 10**6}MB; Peak was {peak / 10**6}MB\")   \n",
    "tracemalloc.stop()"
   ]
  },
  {
   "cell_type": "code",
   "execution_count": 12,
   "id": "92a4dc97-60f3-424a-803d-3a830e322cf0",
   "metadata": {},
   "outputs": [
    {
     "name": "stdout",
     "output_type": "stream",
     "text": [
      "[0.8320928335930919, 0.8320928335930919]\n",
      "RoBERTa calc time: 22.108549291999996 sec\n"
     ]
    }
   ],
   "source": [
    "print(roberta_scores)\n",
    "print(\"RoBERTa calc time:\", roberta_end, \"sec\")"
   ]
  },
  {
   "cell_type": "markdown",
   "id": "ff3aeecf-2776-4c4f-977e-3cebaa60a9c4",
   "metadata": {},
   "source": [
    "### DistilBERT"
   ]
  },
  {
   "cell_type": "code",
   "execution_count": 14,
   "id": "49778491-a31a-4191-b393-faa6c7ec6b81",
   "metadata": {},
   "outputs": [],
   "source": [
    "tracemalloc.start()"
   ]
  },
  {
   "cell_type": "code",
   "execution_count": 15,
   "id": "8786997c-7f4d-42f6-a9c6-2b29c501c0b7",
   "metadata": {},
   "outputs": [
    {
     "name": "stdout",
     "output_type": "stream",
     "text": [
      "[{'idx': 0, 'name': '0', 'path': '0_Transformer', 'type': 'sentence_transformers.models.DistilBERT'}, {'idx': 1, 'name': '1', 'path': '1_Pooling', 'type': 'sentence_transformers.models.Pooling'}]\n"
     ]
    }
   ],
   "source": [
    "distilbert_start = time.perf_counter()\n",
    "distilbert_supert = Supert(docs=source_docs, sentence_transformer='distilbert-base-nli-stsb-mean-tokens')\n",
    "distilbert_scores = distilbert_supert(summaries)\n",
    "distilbert_end = time.perf_counter() - distilbert_start"
   ]
  },
  {
   "cell_type": "code",
   "execution_count": 16,
   "id": "ec2fdf2e-e407-4762-ba7f-b0ee312da62f",
   "metadata": {},
   "outputs": [
    {
     "name": "stdout",
     "output_type": "stream",
     "text": [
      "Current memory usage is 18.528955MB; Peak was 20.969932MB\n"
     ]
    }
   ],
   "source": [
    "current, peak = tracemalloc.get_traced_memory()   \n",
    "print(f\"Current memory usage is {current / 10**6}MB; Peak was {peak / 10**6}MB\")   \n",
    "tracemalloc.stop()"
   ]
  },
  {
   "cell_type": "code",
   "execution_count": 17,
   "id": "b8682a79-7fcf-4333-9a68-2dee3c34107b",
   "metadata": {},
   "outputs": [
    {
     "name": "stdout",
     "output_type": "stream",
     "text": [
      "[0.832189884651843, 0.832189884651843]\n",
      "DistilBERT calc time: 11.591048790999992 sec\n"
     ]
    }
   ],
   "source": [
    "print(distilbert_scores)\n",
    "print(\"DistilBERT calc time:\", distilbert_end, \"sec\")"
   ]
  },
  {
   "cell_type": "markdown",
   "id": "005c11f0-58c1-4546-a523-27250c6a9601",
   "metadata": {},
   "source": [
    "# Create Summaries with RL"
   ]
  },
  {
   "cell_type": "markdown",
   "id": "e9306189-f3c3-488e-b86b-ce103e5b1ae4",
   "metadata": {},
   "source": [
    "### RL Class from other py-script"
   ]
  },
  {
   "cell_type": "code",
   "execution_count": 18,
   "id": "b50e52ef-310a-4c9c-98b8-3c55bf2ecc5b",
   "metadata": {},
   "outputs": [],
   "source": [
    "from ref_free_metrics.supert import Supert\n",
    "from summariser.ngram_vector.vector_generator import Vectoriser\n",
    "from summariser.deep_td import DeepTDAgent as RLAgent\n",
    "from utils.data_reader import CorpusReader\n",
    "from utils.evaluator import evaluate_summary_rouge, add_result\n",
    "\n",
    "class RLSummarizer():\n",
    "    def __init__(self,reward_func, reward_strict=5.,rl_strict=5.,train_episode=5000, base_length=200, sample_summ_num=5000, gpu=False):\n",
    "        self.reward_func = reward_func\n",
    "        self.reward_strict = reward_strict\n",
    "        self.rl_strict = rl_strict\n",
    "        self.train_episode = train_episode\n",
    "        self.base_length = base_length\n",
    "        self.sample_summ_num = sample_summ_num\n",
    "        self.gpu = gpu\n",
    "\n",
    "    def get_sample_summaries(self, docs, summ_max_len=100):\n",
    "        vec = Vectoriser(docs,summ_max_len)\n",
    "        summary_list = vec.sample_random_summaries(self.sample_summ_num)\n",
    "        rewards = self.reward_func(summary_list)\n",
    "        assert len(summary_list) == len(rewards)\n",
    "        return summary_list, rewards\n",
    "\n",
    "    def summarize(self, docs, summ_max_len=100):\n",
    "        # generate sample summaries for memory replay\n",
    "        summaries, rewards = self.get_sample_summaries(docs, summ_max_len)\n",
    "        vec = Vectoriser(docs,base=self.base_length)\n",
    "        rl_agent = RLAgent(vec, summaries, strict_para=self.rl_strict, train_round=self.train_episode, gpu=self.gpu)\n",
    "        summary = rl_agent(rewards)\n",
    "        return summary"
   ]
  },
  {
   "cell_type": "markdown",
   "id": "9e0af5bc-dbf7-4c0a-9a7a-8b0d64ab183d",
   "metadata": {},
   "source": [
    "### BERT"
   ]
  },
  {
   "cell_type": "code",
   "execution_count": 19,
   "id": "5a580793-abee-470d-8fe0-380eb6f197f1",
   "metadata": {},
   "outputs": [
    {
     "name": "stderr",
     "output_type": "stream",
     "text": [
      "generating samples for memory replay: 100%|██████████| 5000/5000 [00:06<00:00, 729.42it/s]\n",
      "neural-rl training episodes: 100%|██████████| 5000/5000 [00:39<00:00, 127.18it/s]\n"
     ]
    },
    {
     "name": "stdout",
     "output_type": "stream",
     "text": [
      "Juan Manuel Alvarez, 25, of Compton, the driver of the Jeep Grand Cherokee, was found near the wreckage and arrested on suspicion of homicide. Until Wednesday, Juan Manuel Alvarez was living the average life of an obscure and troubled man. ``These people were just going to work.'' He was told she was taken to the hospital and released. The charges include the special circumstances of using the train, which could make the man, Juan M. Alvarez, eligible for the death penalty. ``Nothing of this magnitude has happened (before) in Glendale,'' he said. As he watched, southbound Train No. ``It was.\n"
     ]
    }
   ],
   "source": [
    "# generate summaries using reinforcement learning, with supert as reward function\n",
    "rl_summarizer = RLSummarizer(reward_func = supert, gpu = False)\n",
    "summary = rl_summarizer.summarize(source_docs, summ_max_len=100)\n",
    "\n",
    "# print out the generated summary\n",
    "print(summary)"
   ]
  },
  {
   "cell_type": "code",
   "execution_count": 20,
   "id": "c3c9f972-f70e-45ff-a601-36bed55451e7",
   "metadata": {},
   "outputs": [
    {
     "name": "stdout",
     "output_type": "stream",
     "text": [
      "execute_rouge command is perl /Users/dwarakvittal/Documents/Projekte/NLP_Metric/SUPERT/rouge/ROUGE-RELEASE-1.5.5/ROUGE-1.5.5.pl -e /Users/dwarakvittal/Documents/Projekte/NLP_Metric/SUPERT/rouge/ROUGE-RELEASE-1.5.5/data -n 4 -m -c 95 -r 1000 -f A -p 0.5 -t 0 -a -2 -4 -u -l 100 -a /Users/dwarakvittal/Documents/Projekte/NLP_Metric/SUPERT/rouge_temp_files/69966-1628935528.03852/config.xml\n",
      "b'---------------------------------------------\\n1 ROUGE-1 Average_R: 0.29000 (95%-conf.int. 0.29000 - 0.29000)\\n1 ROUGE-1 Average_P: 0.29000 (95%-conf.int. 0.29000 - 0.29000)\\n1 ROUGE-1 Average_F: 0.29000 (95%-conf.int. 0.29000 - 0.29000)\\n---------------------------------------------\\n1 ROUGE-2 Average_R: 0.06061 (95%-conf.int. 0.06061 - 0.06061)\\n1 ROUGE-2 Average_P: 0.06061 (95%-conf.int. 0.06061 - 0.06061)\\n1 ROUGE-2 Average_F: 0.06061 (95%-conf.int. 0.06061 - 0.06061)\\n---------------------------------------------\\n1 ROUGE-3 Average_R: 0.01020 (95%-conf.int. 0.01020 - 0.01020)\\n1 ROUGE-3 Average_P: 0.01020 (95%-conf.int. 0.01020 - 0.01020)\\n1 ROUGE-3 Average_F: 0.01020 (95%-conf.int. 0.01020 - 0.01020)\\n---------------------------------------------\\n1 ROUGE-4 Average_R: 0.00000 (95%-conf.int. 0.00000 - 0.00000)\\n1 ROUGE-4 Average_P: 0.00000 (95%-conf.int. 0.00000 - 0.00000)\\n1 ROUGE-4 Average_F: 0.00000 (95%-conf.int. 0.00000 - 0.00000)\\n---------------------------------------------\\n1 ROUGE-L Average_R: 0.16000 (95%-conf.int. 0.16000 - 0.16000)\\n1 ROUGE-L Average_P: 0.16000 (95%-conf.int. 0.16000 - 0.16000)\\n1 ROUGE-L Average_F: 0.16000 (95%-conf.int. 0.16000 - 0.16000)\\n---------------------------------------------\\n1 ROUGE-SU* Average_R: 0.06991 (95%-conf.int. 0.06991 - 0.06991)\\n1 ROUGE-SU* Average_P: 0.06991 (95%-conf.int. 0.06991 - 0.06991)\\n1 ROUGE-SU* Average_F: 0.06991 (95%-conf.int. 0.06991 - 0.06991)\\n'\n",
      "execute_rouge command is perl /Users/dwarakvittal/Documents/Projekte/NLP_Metric/SUPERT/rouge/ROUGE-RELEASE-1.5.5/ROUGE-1.5.5.pl -e /Users/dwarakvittal/Documents/Projekte/NLP_Metric/SUPERT/rouge/ROUGE-RELEASE-1.5.5/data -n 4 -m -c 95 -r 1000 -f A -p 0.5 -t 0 -a -2 -4 -u -l 100 -a /Users/dwarakvittal/Documents/Projekte/NLP_Metric/SUPERT/rouge_temp_files/86708-1628935528.147377/config.xml\n",
      "b'---------------------------------------------\\n1 ROUGE-1 Average_R: 0.24242 (95%-conf.int. 0.24242 - 0.24242)\\n1 ROUGE-1 Average_P: 0.24000 (95%-conf.int. 0.24000 - 0.24000)\\n1 ROUGE-1 Average_F: 0.24120 (95%-conf.int. 0.24120 - 0.24120)\\n---------------------------------------------\\n1 ROUGE-2 Average_R: 0.04082 (95%-conf.int. 0.04082 - 0.04082)\\n1 ROUGE-2 Average_P: 0.04040 (95%-conf.int. 0.04040 - 0.04040)\\n1 ROUGE-2 Average_F: 0.04061 (95%-conf.int. 0.04061 - 0.04061)\\n---------------------------------------------\\n1 ROUGE-3 Average_R: 0.01031 (95%-conf.int. 0.01031 - 0.01031)\\n1 ROUGE-3 Average_P: 0.01020 (95%-conf.int. 0.01020 - 0.01020)\\n1 ROUGE-3 Average_F: 0.01025 (95%-conf.int. 0.01025 - 0.01025)\\n---------------------------------------------\\n1 ROUGE-4 Average_R: 0.00000 (95%-conf.int. 0.00000 - 0.00000)\\n1 ROUGE-4 Average_P: 0.00000 (95%-conf.int. 0.00000 - 0.00000)\\n1 ROUGE-4 Average_F: 0.00000 (95%-conf.int. 0.00000 - 0.00000)\\n---------------------------------------------\\n1 ROUGE-L Average_R: 0.13131 (95%-conf.int. 0.13131 - 0.13131)\\n1 ROUGE-L Average_P: 0.13000 (95%-conf.int. 0.13000 - 0.13000)\\n1 ROUGE-L Average_F: 0.13065 (95%-conf.int. 0.13065 - 0.13065)\\n---------------------------------------------\\n1 ROUGE-SU* Average_R: 0.05375 (95%-conf.int. 0.05375 - 0.05375)\\n1 ROUGE-SU* Average_P: 0.05268 (95%-conf.int. 0.05268 - 0.05268)\\n1 ROUGE-SU* Average_F: 0.05321 (95%-conf.int. 0.05321 - 0.05321)\\n'\n",
      "execute_rouge command is perl /Users/dwarakvittal/Documents/Projekte/NLP_Metric/SUPERT/rouge/ROUGE-RELEASE-1.5.5/ROUGE-1.5.5.pl -e /Users/dwarakvittal/Documents/Projekte/NLP_Metric/SUPERT/rouge/ROUGE-RELEASE-1.5.5/data -n 4 -m -c 95 -r 1000 -f A -p 0.5 -t 0 -a -2 -4 -u -l 100 -a /Users/dwarakvittal/Documents/Projekte/NLP_Metric/SUPERT/rouge_temp_files/70383-1628935528.221237/config.xml\n",
      "b'---------------------------------------------\\n1 ROUGE-1 Average_R: 0.28000 (95%-conf.int. 0.28000 - 0.28000)\\n1 ROUGE-1 Average_P: 0.28000 (95%-conf.int. 0.28000 - 0.28000)\\n1 ROUGE-1 Average_F: 0.28000 (95%-conf.int. 0.28000 - 0.28000)\\n---------------------------------------------\\n1 ROUGE-2 Average_R: 0.03030 (95%-conf.int. 0.03030 - 0.03030)\\n1 ROUGE-2 Average_P: 0.03030 (95%-conf.int. 0.03030 - 0.03030)\\n1 ROUGE-2 Average_F: 0.03030 (95%-conf.int. 0.03030 - 0.03030)\\n---------------------------------------------\\n1 ROUGE-3 Average_R: 0.01020 (95%-conf.int. 0.01020 - 0.01020)\\n1 ROUGE-3 Average_P: 0.01020 (95%-conf.int. 0.01020 - 0.01020)\\n1 ROUGE-3 Average_F: 0.01020 (95%-conf.int. 0.01020 - 0.01020)\\n---------------------------------------------\\n1 ROUGE-4 Average_R: 0.00000 (95%-conf.int. 0.00000 - 0.00000)\\n1 ROUGE-4 Average_P: 0.00000 (95%-conf.int. 0.00000 - 0.00000)\\n1 ROUGE-4 Average_F: 0.00000 (95%-conf.int. 0.00000 - 0.00000)\\n---------------------------------------------\\n1 ROUGE-L Average_R: 0.17000 (95%-conf.int. 0.17000 - 0.17000)\\n1 ROUGE-L Average_P: 0.17000 (95%-conf.int. 0.17000 - 0.17000)\\n1 ROUGE-L Average_F: 0.17000 (95%-conf.int. 0.17000 - 0.17000)\\n---------------------------------------------\\n1 ROUGE-SU* Average_R: 0.06892 (95%-conf.int. 0.06892 - 0.06892)\\n1 ROUGE-SU* Average_P: 0.06892 (95%-conf.int. 0.06892 - 0.06892)\\n1 ROUGE-SU* Average_F: 0.06892 (95%-conf.int. 0.06892 - 0.06892)\\n'\n",
      "execute_rouge command is perl /Users/dwarakvittal/Documents/Projekte/NLP_Metric/SUPERT/rouge/ROUGE-RELEASE-1.5.5/ROUGE-1.5.5.pl -e /Users/dwarakvittal/Documents/Projekte/NLP_Metric/SUPERT/rouge/ROUGE-RELEASE-1.5.5/data -n 4 -m -c 95 -r 1000 -f A -p 0.5 -t 0 -a -2 -4 -u -l 100 -a /Users/dwarakvittal/Documents/Projekte/NLP_Metric/SUPERT/rouge_temp_files/67667-1628935528.295821/config.xml\n",
      "b'---------------------------------------------\\n1 ROUGE-1 Average_R: 0.33000 (95%-conf.int. 0.33000 - 0.33000)\\n1 ROUGE-1 Average_P: 0.33000 (95%-conf.int. 0.33000 - 0.33000)\\n1 ROUGE-1 Average_F: 0.33000 (95%-conf.int. 0.33000 - 0.33000)\\n---------------------------------------------\\n1 ROUGE-2 Average_R: 0.07071 (95%-conf.int. 0.07071 - 0.07071)\\n1 ROUGE-2 Average_P: 0.07071 (95%-conf.int. 0.07071 - 0.07071)\\n1 ROUGE-2 Average_F: 0.07071 (95%-conf.int. 0.07071 - 0.07071)\\n---------------------------------------------\\n1 ROUGE-3 Average_R: 0.03061 (95%-conf.int. 0.03061 - 0.03061)\\n1 ROUGE-3 Average_P: 0.03061 (95%-conf.int. 0.03061 - 0.03061)\\n1 ROUGE-3 Average_F: 0.03061 (95%-conf.int. 0.03061 - 0.03061)\\n---------------------------------------------\\n1 ROUGE-4 Average_R: 0.01031 (95%-conf.int. 0.01031 - 0.01031)\\n1 ROUGE-4 Average_P: 0.01031 (95%-conf.int. 0.01031 - 0.01031)\\n1 ROUGE-4 Average_F: 0.01031 (95%-conf.int. 0.01031 - 0.01031)\\n---------------------------------------------\\n1 ROUGE-L Average_R: 0.15000 (95%-conf.int. 0.15000 - 0.15000)\\n1 ROUGE-L Average_P: 0.15000 (95%-conf.int. 0.15000 - 0.15000)\\n1 ROUGE-L Average_F: 0.15000 (95%-conf.int. 0.15000 - 0.15000)\\n---------------------------------------------\\n1 ROUGE-SU* Average_R: 0.09210 (95%-conf.int. 0.09210 - 0.09210)\\n1 ROUGE-SU* Average_P: 0.09210 (95%-conf.int. 0.09210 - 0.09210)\\n1 ROUGE-SU* Average_F: 0.09210 (95%-conf.int. 0.09210 - 0.09210)\\n'\n",
      "ROUGE-1 0.285605\n",
      "ROUGE-2 0.050609999999999995\n",
      "ROUGE-L 0.1528275\n",
      "ROUGE-SU4 0.07117\n",
      "{'ROUGE-1': [0.29, 0.24242, 0.28, 0.33], 'ROUGE-2': [0.06061, 0.04082, 0.0303, 0.07071], 'ROUGE-L': [0.16, 0.13131, 0.17, 0.15], 'ROUGE-SU4': [0.06991, 0.05375, 0.06892, 0.0921]}\n"
     ]
    }
   ],
   "source": [
    "rouge_scores = {}\n",
    "for ref in refs:\n",
    "    rs = evaluate_summary_rouge(summary, ref)\n",
    "    add_result(rouge_scores, rs)\n",
    "roguenames = ['ROUGE-1', 'ROUGE-2', 'ROUGE-L', 'ROUGE-SU4']\n",
    "for roguename in roguenames:\n",
    "    print(roguename ,np.mean(rouge_scores[roguename]))\n",
    "print(rouge_scores)"
   ]
  },
  {
   "cell_type": "markdown",
   "id": "ac4fc02b-70ec-47d9-98db-d303f63a7bb6",
   "metadata": {},
   "source": [
    "### RoBERTa"
   ]
  },
  {
   "cell_type": "code",
   "execution_count": 21,
   "id": "a21b3692-4d4c-49aa-879e-9b329ad87f38",
   "metadata": {},
   "outputs": [
    {
     "name": "stderr",
     "output_type": "stream",
     "text": [
      "generating samples for memory replay: 100%|██████████| 5000/5000 [00:06<00:00, 719.43it/s]\n",
      "neural-rl training episodes: 100%|██████████| 5000/5000 [00:39<00:00, 127.03it/s]\n"
     ]
    },
    {
     "name": "stdout",
     "output_type": "stream",
     "text": [
      "Distraught and remorseful, Alvarez told police he had left the vehicle and watched the derailment, Adams said. About 60 people were treated at the scene and released. The Los Angeles Police Department declared a citywide tactical alert that allows commanders to keep officers on the job beyond the end of their shifts, in order to help with the rescue and crowd control operations. On Thursday, the National Transportation Safety Board said it would not conduct a full investigation of the crash because it appeared to be the result of a criminal act. The car in front of us went sideways.\n"
     ]
    }
   ],
   "source": [
    "# generate summaries using reinforcement learning, with supert as reward function\n",
    "rl_summarizer = RLSummarizer(reward_func = roberta_supert, gpu = False)\n",
    "summary = rl_summarizer.summarize(source_docs, summ_max_len=100)\n",
    "\n",
    "# print out the generated summary\n",
    "print(summary)"
   ]
  },
  {
   "cell_type": "code",
   "execution_count": 22,
   "id": "673ae9e8-862a-4ccb-a554-3d5dc819201b",
   "metadata": {},
   "outputs": [
    {
     "name": "stdout",
     "output_type": "stream",
     "text": [
      "execute_rouge command is perl /Users/dwarakvittal/Documents/Projekte/NLP_Metric/SUPERT/rouge/ROUGE-RELEASE-1.5.5/ROUGE-1.5.5.pl -e /Users/dwarakvittal/Documents/Projekte/NLP_Metric/SUPERT/rouge/ROUGE-RELEASE-1.5.5/data -n 4 -m -c 95 -r 1000 -f A -p 0.5 -t 0 -a -2 -4 -u -l 100 -a /Users/dwarakvittal/Documents/Projekte/NLP_Metric/SUPERT/rouge_temp_files/02545-1628935787.6957371/config.xml\n",
      "b'---------------------------------------------\\n1 ROUGE-1 Average_R: 0.31000 (95%-conf.int. 0.31000 - 0.31000)\\n1 ROUGE-1 Average_P: 0.31000 (95%-conf.int. 0.31000 - 0.31000)\\n1 ROUGE-1 Average_F: 0.31000 (95%-conf.int. 0.31000 - 0.31000)\\n---------------------------------------------\\n1 ROUGE-2 Average_R: 0.02020 (95%-conf.int. 0.02020 - 0.02020)\\n1 ROUGE-2 Average_P: 0.02020 (95%-conf.int. 0.02020 - 0.02020)\\n1 ROUGE-2 Average_F: 0.02020 (95%-conf.int. 0.02020 - 0.02020)\\n---------------------------------------------\\n1 ROUGE-3 Average_R: 0.00000 (95%-conf.int. 0.00000 - 0.00000)\\n1 ROUGE-3 Average_P: 0.00000 (95%-conf.int. 0.00000 - 0.00000)\\n1 ROUGE-3 Average_F: 0.00000 (95%-conf.int. 0.00000 - 0.00000)\\n---------------------------------------------\\n1 ROUGE-4 Average_R: 0.00000 (95%-conf.int. 0.00000 - 0.00000)\\n1 ROUGE-4 Average_P: 0.00000 (95%-conf.int. 0.00000 - 0.00000)\\n1 ROUGE-4 Average_F: 0.00000 (95%-conf.int. 0.00000 - 0.00000)\\n---------------------------------------------\\n1 ROUGE-L Average_R: 0.13000 (95%-conf.int. 0.13000 - 0.13000)\\n1 ROUGE-L Average_P: 0.13000 (95%-conf.int. 0.13000 - 0.13000)\\n1 ROUGE-L Average_F: 0.13000 (95%-conf.int. 0.13000 - 0.13000)\\n---------------------------------------------\\n1 ROUGE-SU* Average_R: 0.07566 (95%-conf.int. 0.07566 - 0.07566)\\n1 ROUGE-SU* Average_P: 0.07566 (95%-conf.int. 0.07566 - 0.07566)\\n1 ROUGE-SU* Average_F: 0.07566 (95%-conf.int. 0.07566 - 0.07566)\\n'\n",
      "execute_rouge command is perl /Users/dwarakvittal/Documents/Projekte/NLP_Metric/SUPERT/rouge/ROUGE-RELEASE-1.5.5/ROUGE-1.5.5.pl -e /Users/dwarakvittal/Documents/Projekte/NLP_Metric/SUPERT/rouge/ROUGE-RELEASE-1.5.5/data -n 4 -m -c 95 -r 1000 -f A -p 0.5 -t 0 -a -2 -4 -u -l 100 -a /Users/dwarakvittal/Documents/Projekte/NLP_Metric/SUPERT/rouge_temp_files/75576-1628935787.801111/config.xml\n",
      "b'---------------------------------------------\\n1 ROUGE-1 Average_R: 0.31313 (95%-conf.int. 0.31313 - 0.31313)\\n1 ROUGE-1 Average_P: 0.31000 (95%-conf.int. 0.31000 - 0.31000)\\n1 ROUGE-1 Average_F: 0.31156 (95%-conf.int. 0.31156 - 0.31156)\\n---------------------------------------------\\n1 ROUGE-2 Average_R: 0.06122 (95%-conf.int. 0.06122 - 0.06122)\\n1 ROUGE-2 Average_P: 0.06061 (95%-conf.int. 0.06061 - 0.06061)\\n1 ROUGE-2 Average_F: 0.06091 (95%-conf.int. 0.06091 - 0.06091)\\n---------------------------------------------\\n1 ROUGE-3 Average_R: 0.02062 (95%-conf.int. 0.02062 - 0.02062)\\n1 ROUGE-3 Average_P: 0.02041 (95%-conf.int. 0.02041 - 0.02041)\\n1 ROUGE-3 Average_F: 0.02051 (95%-conf.int. 0.02051 - 0.02051)\\n---------------------------------------------\\n1 ROUGE-4 Average_R: 0.01042 (95%-conf.int. 0.01042 - 0.01042)\\n1 ROUGE-4 Average_P: 0.01031 (95%-conf.int. 0.01031 - 0.01031)\\n1 ROUGE-4 Average_F: 0.01036 (95%-conf.int. 0.01036 - 0.01036)\\n---------------------------------------------\\n1 ROUGE-L Average_R: 0.14141 (95%-conf.int. 0.14141 - 0.14141)\\n1 ROUGE-L Average_P: 0.14000 (95%-conf.int. 0.14000 - 0.14000)\\n1 ROUGE-L Average_F: 0.14070 (95%-conf.int. 0.14070 - 0.14070)\\n---------------------------------------------\\n1 ROUGE-SU* Average_R: 0.07800 (95%-conf.int. 0.07800 - 0.07800)\\n1 ROUGE-SU* Average_P: 0.07645 (95%-conf.int. 0.07645 - 0.07645)\\n1 ROUGE-SU* Average_F: 0.07722 (95%-conf.int. 0.07722 - 0.07722)\\n'\n",
      "execute_rouge command is perl /Users/dwarakvittal/Documents/Projekte/NLP_Metric/SUPERT/rouge/ROUGE-RELEASE-1.5.5/ROUGE-1.5.5.pl -e /Users/dwarakvittal/Documents/Projekte/NLP_Metric/SUPERT/rouge/ROUGE-RELEASE-1.5.5/data -n 4 -m -c 95 -r 1000 -f A -p 0.5 -t 0 -a -2 -4 -u -l 100 -a /Users/dwarakvittal/Documents/Projekte/NLP_Metric/SUPERT/rouge_temp_files/25723-1628935787.875341/config.xml\n",
      "b'---------------------------------------------\\n1 ROUGE-1 Average_R: 0.25000 (95%-conf.int. 0.25000 - 0.25000)\\n1 ROUGE-1 Average_P: 0.25000 (95%-conf.int. 0.25000 - 0.25000)\\n1 ROUGE-1 Average_F: 0.25000 (95%-conf.int. 0.25000 - 0.25000)\\n---------------------------------------------\\n1 ROUGE-2 Average_R: 0.02020 (95%-conf.int. 0.02020 - 0.02020)\\n1 ROUGE-2 Average_P: 0.02020 (95%-conf.int. 0.02020 - 0.02020)\\n1 ROUGE-2 Average_F: 0.02020 (95%-conf.int. 0.02020 - 0.02020)\\n---------------------------------------------\\n1 ROUGE-3 Average_R: 0.00000 (95%-conf.int. 0.00000 - 0.00000)\\n1 ROUGE-3 Average_P: 0.00000 (95%-conf.int. 0.00000 - 0.00000)\\n1 ROUGE-3 Average_F: 0.00000 (95%-conf.int. 0.00000 - 0.00000)\\n---------------------------------------------\\n1 ROUGE-4 Average_R: 0.00000 (95%-conf.int. 0.00000 - 0.00000)\\n1 ROUGE-4 Average_P: 0.00000 (95%-conf.int. 0.00000 - 0.00000)\\n1 ROUGE-4 Average_F: 0.00000 (95%-conf.int. 0.00000 - 0.00000)\\n---------------------------------------------\\n1 ROUGE-L Average_R: 0.13000 (95%-conf.int. 0.13000 - 0.13000)\\n1 ROUGE-L Average_P: 0.13000 (95%-conf.int. 0.13000 - 0.13000)\\n1 ROUGE-L Average_F: 0.13000 (95%-conf.int. 0.13000 - 0.13000)\\n---------------------------------------------\\n1 ROUGE-SU* Average_R: 0.05348 (95%-conf.int. 0.05348 - 0.05348)\\n1 ROUGE-SU* Average_P: 0.05348 (95%-conf.int. 0.05348 - 0.05348)\\n1 ROUGE-SU* Average_F: 0.05348 (95%-conf.int. 0.05348 - 0.05348)\\n'\n",
      "execute_rouge command is perl /Users/dwarakvittal/Documents/Projekte/NLP_Metric/SUPERT/rouge/ROUGE-RELEASE-1.5.5/ROUGE-1.5.5.pl -e /Users/dwarakvittal/Documents/Projekte/NLP_Metric/SUPERT/rouge/ROUGE-RELEASE-1.5.5/data -n 4 -m -c 95 -r 1000 -f A -p 0.5 -t 0 -a -2 -4 -u -l 100 -a /Users/dwarakvittal/Documents/Projekte/NLP_Metric/SUPERT/rouge_temp_files/00442-1628935787.950099/config.xml\n",
      "b'---------------------------------------------\\n1 ROUGE-1 Average_R: 0.32000 (95%-conf.int. 0.32000 - 0.32000)\\n1 ROUGE-1 Average_P: 0.32000 (95%-conf.int. 0.32000 - 0.32000)\\n1 ROUGE-1 Average_F: 0.32000 (95%-conf.int. 0.32000 - 0.32000)\\n---------------------------------------------\\n1 ROUGE-2 Average_R: 0.04040 (95%-conf.int. 0.04040 - 0.04040)\\n1 ROUGE-2 Average_P: 0.04040 (95%-conf.int. 0.04040 - 0.04040)\\n1 ROUGE-2 Average_F: 0.04040 (95%-conf.int. 0.04040 - 0.04040)\\n---------------------------------------------\\n1 ROUGE-3 Average_R: 0.00000 (95%-conf.int. 0.00000 - 0.00000)\\n1 ROUGE-3 Average_P: 0.00000 (95%-conf.int. 0.00000 - 0.00000)\\n1 ROUGE-3 Average_F: 0.00000 (95%-conf.int. 0.00000 - 0.00000)\\n---------------------------------------------\\n1 ROUGE-4 Average_R: 0.00000 (95%-conf.int. 0.00000 - 0.00000)\\n1 ROUGE-4 Average_P: 0.00000 (95%-conf.int. 0.00000 - 0.00000)\\n1 ROUGE-4 Average_F: 0.00000 (95%-conf.int. 0.00000 - 0.00000)\\n---------------------------------------------\\n1 ROUGE-L Average_R: 0.13000 (95%-conf.int. 0.13000 - 0.13000)\\n1 ROUGE-L Average_P: 0.13000 (95%-conf.int. 0.13000 - 0.13000)\\n1 ROUGE-L Average_F: 0.13000 (95%-conf.int. 0.13000 - 0.13000)\\n---------------------------------------------\\n1 ROUGE-SU* Average_R: 0.07744 (95%-conf.int. 0.07744 - 0.07744)\\n1 ROUGE-SU* Average_P: 0.07744 (95%-conf.int. 0.07744 - 0.07744)\\n1 ROUGE-SU* Average_F: 0.07744 (95%-conf.int. 0.07744 - 0.07744)\\n'\n",
      "ROUGE-1 0.2982825\n",
      "ROUGE-2 0.035504999999999995\n",
      "ROUGE-L 0.1328525\n",
      "ROUGE-SU4 0.071145\n",
      "{'ROUGE-1': [0.31, 0.31313, 0.25, 0.32], 'ROUGE-2': [0.0202, 0.06122, 0.0202, 0.0404], 'ROUGE-L': [0.13, 0.14141, 0.13, 0.13], 'ROUGE-SU4': [0.07566, 0.078, 0.05348, 0.07744]}\n"
     ]
    }
   ],
   "source": [
    "rouge_scores = {}\n",
    "for ref in refs:\n",
    "    rs = evaluate_summary_rouge(summary, ref)\n",
    "    add_result(rouge_scores, rs)\n",
    "roguenames = ['ROUGE-1', 'ROUGE-2', 'ROUGE-L', 'ROUGE-SU4']\n",
    "for roguename in roguenames:\n",
    "    print(roguename ,np.mean(rouge_scores[roguename]))\n",
    "print(rouge_scores)"
   ]
  },
  {
   "cell_type": "markdown",
   "id": "7f5ee05b-c873-4970-8a7f-cb7d4b8e38b4",
   "metadata": {},
   "source": [
    "### DistilBERT"
   ]
  },
  {
   "cell_type": "code",
   "execution_count": 23,
   "id": "964345ab-7778-40ff-9656-aef26c932d10",
   "metadata": {},
   "outputs": [
    {
     "name": "stderr",
     "output_type": "stream",
     "text": [
      "generating samples for memory replay: 100%|██████████| 5000/5000 [00:06<00:00, 717.36it/s]\n",
      "neural-rl training episodes: 100%|██████████| 5000/5000 [00:38<00:00, 129.04it/s]\n"
     ]
    },
    {
     "name": "stdout",
     "output_type": "stream",
     "text": [
      "The SUV was hit shortly after 6 a.m. Pacific time by a southbound Metrolink train, which then went off the rails and started a deadly chain reaction, authorities said. ``Nothing of this magnitude has happened (before) in Glendale,'' he said. Eleven people died and about 180 were injured in the crash at 6:02 a.m. Wednesday. With his tire, apparently caught between the tracks, Mr. Alvarez jumped out of the Jeep and ran. A fire broke out, and 5,000 gallons of diesel fuel spilled. ( Begin optional trim) Glendale Memorial Hospital treated 13 passengers. At least one train car caught fire.\n"
     ]
    }
   ],
   "source": [
    "# generate summaries using reinforcement learning, with supert as reward function\n",
    "rl_summarizer = RLSummarizer(reward_func = distilbert_supert, gpu = False)\n",
    "summary = rl_summarizer.summarize(source_docs, summ_max_len=100)\n",
    "\n",
    "# print out the generated summary\n",
    "print(summary)"
   ]
  },
  {
   "cell_type": "code",
   "execution_count": 24,
   "id": "ce1b0bf0-7b44-436d-9879-1779121103dc",
   "metadata": {},
   "outputs": [],
   "source": [
    "#summary = \"Alvarez is likely to face at least 10 counts of murder, the chief said. The driver of the SUV, identified as Juan Manuel Alvarez, 25, of Compton, Calif., was taken into custody, and police said he would be charged with homicide. A counterterrorism command post was set up near the crash site, but authorities determined within an hour that the disaster was almost certainly the work of one troubled man. He said he got on train 100 at 5:19 a.m. in Simi Valley. ``This is a complete outrage.'' He was told she was taken to the hospital and released.\""
   ]
  },
  {
   "cell_type": "code",
   "execution_count": 25,
   "id": "022889cb-7e41-4a0a-a335-dd4b43bb79c2",
   "metadata": {},
   "outputs": [
    {
     "name": "stdout",
     "output_type": "stream",
     "text": [
      "execute_rouge command is perl /Users/dwarakvittal/Documents/Projekte/NLP_Metric/SUPERT/rouge/ROUGE-RELEASE-1.5.5/ROUGE-1.5.5.pl -e /Users/dwarakvittal/Documents/Projekte/NLP_Metric/SUPERT/rouge/ROUGE-RELEASE-1.5.5/data -n 4 -m -c 95 -r 1000 -f A -p 0.5 -t 0 -a -2 -4 -u -l 100 -a /Users/dwarakvittal/Documents/Projekte/NLP_Metric/SUPERT/rouge_temp_files/53489-1628935957.246093/config.xml\n",
      "b'---------------------------------------------\\n1 ROUGE-1 Average_R: 0.26000 (95%-conf.int. 0.26000 - 0.26000)\\n1 ROUGE-1 Average_P: 0.25243 (95%-conf.int. 0.25243 - 0.25243)\\n1 ROUGE-1 Average_F: 0.25616 (95%-conf.int. 0.25616 - 0.25616)\\n---------------------------------------------\\n1 ROUGE-2 Average_R: 0.03030 (95%-conf.int. 0.03030 - 0.03030)\\n1 ROUGE-2 Average_P: 0.02941 (95%-conf.int. 0.02941 - 0.02941)\\n1 ROUGE-2 Average_F: 0.02985 (95%-conf.int. 0.02985 - 0.02985)\\n---------------------------------------------\\n1 ROUGE-3 Average_R: 0.00000 (95%-conf.int. 0.00000 - 0.00000)\\n1 ROUGE-3 Average_P: 0.00000 (95%-conf.int. 0.00000 - 0.00000)\\n1 ROUGE-3 Average_F: 0.00000 (95%-conf.int. 0.00000 - 0.00000)\\n---------------------------------------------\\n1 ROUGE-4 Average_R: 0.00000 (95%-conf.int. 0.00000 - 0.00000)\\n1 ROUGE-4 Average_P: 0.00000 (95%-conf.int. 0.00000 - 0.00000)\\n1 ROUGE-4 Average_F: 0.00000 (95%-conf.int. 0.00000 - 0.00000)\\n---------------------------------------------\\n1 ROUGE-L Average_R: 0.12000 (95%-conf.int. 0.12000 - 0.12000)\\n1 ROUGE-L Average_P: 0.11650 (95%-conf.int. 0.11650 - 0.11650)\\n1 ROUGE-L Average_F: 0.11822 (95%-conf.int. 0.11822 - 0.11822)\\n---------------------------------------------\\n1 ROUGE-SU* Average_R: 0.05981 (95%-conf.int. 0.05981 - 0.05981)\\n1 ROUGE-SU* Average_P: 0.05640 (95%-conf.int. 0.05640 - 0.05640)\\n1 ROUGE-SU* Average_F: 0.05805 (95%-conf.int. 0.05805 - 0.05805)\\n'\n",
      "execute_rouge command is perl /Users/dwarakvittal/Documents/Projekte/NLP_Metric/SUPERT/rouge/ROUGE-RELEASE-1.5.5/ROUGE-1.5.5.pl -e /Users/dwarakvittal/Documents/Projekte/NLP_Metric/SUPERT/rouge/ROUGE-RELEASE-1.5.5/data -n 4 -m -c 95 -r 1000 -f A -p 0.5 -t 0 -a -2 -4 -u -l 100 -a /Users/dwarakvittal/Documents/Projekte/NLP_Metric/SUPERT/rouge_temp_files/44358-1628935957.328949/config.xml\n",
      "b'---------------------------------------------\\n1 ROUGE-1 Average_R: 0.30303 (95%-conf.int. 0.30303 - 0.30303)\\n1 ROUGE-1 Average_P: 0.29126 (95%-conf.int. 0.29126 - 0.29126)\\n1 ROUGE-1 Average_F: 0.29703 (95%-conf.int. 0.29703 - 0.29703)\\n---------------------------------------------\\n1 ROUGE-2 Average_R: 0.01020 (95%-conf.int. 0.01020 - 0.01020)\\n1 ROUGE-2 Average_P: 0.00980 (95%-conf.int. 0.00980 - 0.00980)\\n1 ROUGE-2 Average_F: 0.01000 (95%-conf.int. 0.01000 - 0.01000)\\n---------------------------------------------\\n1 ROUGE-3 Average_R: 0.00000 (95%-conf.int. 0.00000 - 0.00000)\\n1 ROUGE-3 Average_P: 0.00000 (95%-conf.int. 0.00000 - 0.00000)\\n1 ROUGE-3 Average_F: 0.00000 (95%-conf.int. 0.00000 - 0.00000)\\n---------------------------------------------\\n1 ROUGE-4 Average_R: 0.00000 (95%-conf.int. 0.00000 - 0.00000)\\n1 ROUGE-4 Average_P: 0.00000 (95%-conf.int. 0.00000 - 0.00000)\\n1 ROUGE-4 Average_F: 0.00000 (95%-conf.int. 0.00000 - 0.00000)\\n---------------------------------------------\\n1 ROUGE-L Average_R: 0.14141 (95%-conf.int. 0.14141 - 0.14141)\\n1 ROUGE-L Average_P: 0.13592 (95%-conf.int. 0.13592 - 0.13592)\\n1 ROUGE-L Average_F: 0.13861 (95%-conf.int. 0.13861 - 0.13861)\\n---------------------------------------------\\n1 ROUGE-SU* Average_R: 0.07820 (95%-conf.int. 0.07820 - 0.07820)\\n1 ROUGE-SU* Average_P: 0.07227 (95%-conf.int. 0.07227 - 0.07227)\\n1 ROUGE-SU* Average_F: 0.07512 (95%-conf.int. 0.07512 - 0.07512)\\n'\n",
      "execute_rouge command is perl /Users/dwarakvittal/Documents/Projekte/NLP_Metric/SUPERT/rouge/ROUGE-RELEASE-1.5.5/ROUGE-1.5.5.pl -e /Users/dwarakvittal/Documents/Projekte/NLP_Metric/SUPERT/rouge/ROUGE-RELEASE-1.5.5/data -n 4 -m -c 95 -r 1000 -f A -p 0.5 -t 0 -a -2 -4 -u -l 100 -a /Users/dwarakvittal/Documents/Projekte/NLP_Metric/SUPERT/rouge_temp_files/72357-1628935957.403882/config.xml\n",
      "b'---------------------------------------------\\n1 ROUGE-1 Average_R: 0.34000 (95%-conf.int. 0.34000 - 0.34000)\\n1 ROUGE-1 Average_P: 0.33010 (95%-conf.int. 0.33010 - 0.33010)\\n1 ROUGE-1 Average_F: 0.33498 (95%-conf.int. 0.33498 - 0.33498)\\n---------------------------------------------\\n1 ROUGE-2 Average_R: 0.06061 (95%-conf.int. 0.06061 - 0.06061)\\n1 ROUGE-2 Average_P: 0.05882 (95%-conf.int. 0.05882 - 0.05882)\\n1 ROUGE-2 Average_F: 0.05970 (95%-conf.int. 0.05970 - 0.05970)\\n---------------------------------------------\\n1 ROUGE-3 Average_R: 0.02041 (95%-conf.int. 0.02041 - 0.02041)\\n1 ROUGE-3 Average_P: 0.01980 (95%-conf.int. 0.01980 - 0.01980)\\n1 ROUGE-3 Average_F: 0.02010 (95%-conf.int. 0.02010 - 0.02010)\\n---------------------------------------------\\n1 ROUGE-4 Average_R: 0.00000 (95%-conf.int. 0.00000 - 0.00000)\\n1 ROUGE-4 Average_P: 0.00000 (95%-conf.int. 0.00000 - 0.00000)\\n1 ROUGE-4 Average_F: 0.00000 (95%-conf.int. 0.00000 - 0.00000)\\n---------------------------------------------\\n1 ROUGE-L Average_R: 0.16000 (95%-conf.int. 0.16000 - 0.16000)\\n1 ROUGE-L Average_P: 0.15534 (95%-conf.int. 0.15534 - 0.15534)\\n1 ROUGE-L Average_F: 0.15764 (95%-conf.int. 0.15764 - 0.15764)\\n---------------------------------------------\\n1 ROUGE-SU* Average_R: 0.10002 (95%-conf.int. 0.10002 - 0.10002)\\n1 ROUGE-SU* Average_P: 0.09430 (95%-conf.int. 0.09430 - 0.09430)\\n1 ROUGE-SU* Average_F: 0.09708 (95%-conf.int. 0.09708 - 0.09708)\\n'\n",
      "execute_rouge command is perl /Users/dwarakvittal/Documents/Projekte/NLP_Metric/SUPERT/rouge/ROUGE-RELEASE-1.5.5/ROUGE-1.5.5.pl -e /Users/dwarakvittal/Documents/Projekte/NLP_Metric/SUPERT/rouge/ROUGE-RELEASE-1.5.5/data -n 4 -m -c 95 -r 1000 -f A -p 0.5 -t 0 -a -2 -4 -u -l 100 -a /Users/dwarakvittal/Documents/Projekte/NLP_Metric/SUPERT/rouge_temp_files/23779-1628935957.478807/config.xml\n",
      "b'---------------------------------------------\\n1 ROUGE-1 Average_R: 0.36000 (95%-conf.int. 0.36000 - 0.36000)\\n1 ROUGE-1 Average_P: 0.34951 (95%-conf.int. 0.34951 - 0.34951)\\n1 ROUGE-1 Average_F: 0.35468 (95%-conf.int. 0.35468 - 0.35468)\\n---------------------------------------------\\n1 ROUGE-2 Average_R: 0.06061 (95%-conf.int. 0.06061 - 0.06061)\\n1 ROUGE-2 Average_P: 0.05882 (95%-conf.int. 0.05882 - 0.05882)\\n1 ROUGE-2 Average_F: 0.05970 (95%-conf.int. 0.05970 - 0.05970)\\n---------------------------------------------\\n1 ROUGE-3 Average_R: 0.00000 (95%-conf.int. 0.00000 - 0.00000)\\n1 ROUGE-3 Average_P: 0.00000 (95%-conf.int. 0.00000 - 0.00000)\\n1 ROUGE-3 Average_F: 0.00000 (95%-conf.int. 0.00000 - 0.00000)\\n---------------------------------------------\\n1 ROUGE-4 Average_R: 0.00000 (95%-conf.int. 0.00000 - 0.00000)\\n1 ROUGE-4 Average_P: 0.00000 (95%-conf.int. 0.00000 - 0.00000)\\n1 ROUGE-4 Average_F: 0.00000 (95%-conf.int. 0.00000 - 0.00000)\\n---------------------------------------------\\n1 ROUGE-L Average_R: 0.14000 (95%-conf.int. 0.14000 - 0.14000)\\n1 ROUGE-L Average_P: 0.13592 (95%-conf.int. 0.13592 - 0.13592)\\n1 ROUGE-L Average_F: 0.13793 (95%-conf.int. 0.13793 - 0.13793)\\n---------------------------------------------\\n1 ROUGE-SU* Average_R: 0.09804 (95%-conf.int. 0.09804 - 0.09804)\\n1 ROUGE-SU* Average_P: 0.09244 (95%-conf.int. 0.09244 - 0.09244)\\n1 ROUGE-SU* Average_F: 0.09516 (95%-conf.int. 0.09516 - 0.09516)\\n'\n",
      "ROUGE-1 0.3157575\n",
      "ROUGE-2 0.04043\n",
      "ROUGE-L 0.14035250000000002\n",
      "ROUGE-SU4 0.08401750000000001\n",
      "{'ROUGE-1': [0.26, 0.30303, 0.34, 0.36], 'ROUGE-2': [0.0303, 0.0102, 0.06061, 0.06061], 'ROUGE-L': [0.12, 0.14141, 0.16, 0.14], 'ROUGE-SU4': [0.05981, 0.0782, 0.10002, 0.09804]}\n"
     ]
    }
   ],
   "source": [
    "rouge_scores = {}\n",
    "for ref in refs:\n",
    "    rs = evaluate_summary_rouge(summary, ref)\n",
    "    add_result(rouge_scores, rs)\n",
    "roguenames = ['ROUGE-1', 'ROUGE-2', 'ROUGE-L', 'ROUGE-SU4']\n",
    "for roguename in roguenames:\n",
    "    print(roguename ,np.mean(rouge_scores[roguename]))\n",
    "print(rouge_scores)"
   ]
  },
  {
   "cell_type": "code",
   "execution_count": null,
   "id": "c1d1c30f-4f22-48e5-8576-391fb12d512f",
   "metadata": {},
   "outputs": [],
   "source": []
  }
 ],
 "metadata": {
  "kernelspec": {
   "display_name": "Python 3",
   "language": "python",
   "name": "python3"
  },
  "language_info": {
   "codemirror_mode": {
    "name": "ipython",
    "version": 3
   },
   "file_extension": ".py",
   "mimetype": "text/x-python",
   "name": "python",
   "nbconvert_exporter": "python",
   "pygments_lexer": "ipython3",
   "version": "3.9.4"
  }
 },
 "nbformat": 4,
 "nbformat_minor": 5
}
