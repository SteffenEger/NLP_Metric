{
 "cells": [
  {
   "cell_type": "markdown",
   "id": "10fda35f-7176-4555-afd5-de57d31899af",
   "metadata": {},
   "source": [
    "# SUPERT "
   ]
  },
  {
   "cell_type": "markdown",
   "id": "d081295f-ff6c-4b7d-8a37-dcec454940e8",
   "metadata": {},
   "source": [
    "Example code for using the supert metrics\n",
    "\n",
    "- Paper: https://arxiv.org/abs/2005.03724\n",
    "- Git-Project: https://github.com/danieldeutsch/SUPERT"
   ]
  },
  {
   "cell_type": "code",
   "execution_count": 1,
   "id": "3ed7d641-023c-49d6-a2fa-43dfcfe95f65",
   "metadata": {},
   "outputs": [],
   "source": [
    "import sys\n",
    "sys.path.append(\"SUPERT\")\n",
    "import time"
   ]
  },
  {
   "cell_type": "code",
   "execution_count": 2,
   "id": "5e53e93e-6592-47ac-9cb3-6a96b6dd7722",
   "metadata": {},
   "outputs": [
    {
     "name": "stderr",
     "output_type": "stream",
     "text": [
      "[nltk_data] Downloading package punkt to\n",
      "[nltk_data]     /Users/dwarakvittal/nltk_data...\n",
      "[nltk_data]   Package punkt is already up-to-date!\n",
      "[nltk_data] Downloading package stopwords to\n",
      "[nltk_data]     /Users/dwarakvittal/nltk_data...\n",
      "[nltk_data]   Package stopwords is already up-to-date!\n"
     ]
    },
    {
     "data": {
      "text/plain": [
       "True"
      ]
     },
     "execution_count": 2,
     "metadata": {},
     "output_type": "execute_result"
    }
   ],
   "source": [
    "# to get the reader working\n",
    "import nltk\n",
    "nltk.download('punkt')\n",
    "nltk.download('stopwords')"
   ]
  },
  {
   "cell_type": "code",
   "execution_count": 3,
   "id": "e1f817a1-9fe9-45ec-b1f0-eab1800a5af4",
   "metadata": {},
   "outputs": [],
   "source": [
    "from ref_free_metrics.supert import Supert\n",
    "from utils.data_reader import CorpusReader"
   ]
  },
  {
   "cell_type": "code",
   "execution_count": 4,
   "id": "9ace5438-9137-44ab-817a-5d4e6ba5c939",
   "metadata": {},
   "outputs": [],
   "source": [
    "# read docs and summaries\n",
    "reader = CorpusReader('SUPERT/data/topic_1')\n",
    "source_docs = reader()\n",
    "summaries = reader.readSummaries() "
   ]
  },
  {
   "cell_type": "markdown",
   "id": "8f2cc19f-2c04-4494-9fc9-0075903932a6",
   "metadata": {},
   "source": [
    "# Evaluate Summaries"
   ]
  },
  {
   "cell_type": "markdown",
   "id": "dc294cf6-93dc-4150-9532-6e300f7e4528",
   "metadata": {},
   "source": [
    "### BERT"
   ]
  },
  {
   "cell_type": "code",
   "execution_count": 14,
   "id": "f5e78cfb-dea8-4f36-94dd-63c51937dca0",
   "metadata": {},
   "outputs": [
    {
     "name": "stdout",
     "output_type": "stream",
     "text": [
      "[{'idx': 0, 'name': '0', 'path': '0_BERT', 'type': 'sentence_transformers.models.BERT'}, {'idx': 1, 'name': '1', 'path': '1_Pooling', 'type': 'sentence_transformers.models.Pooling'}]\n"
     ]
    }
   ],
   "source": [
    "bert_start = time.perf_counter()\n",
    "# compute the Supert scores\n",
    "supert = Supert(docs=source_docs, sentence_transformer='bert-large-nli-stsb-mean-tokens')\n",
    "bert_scores = supert(summaries)\n",
    "bert_end = time.perf_counter() - bert_start"
   ]
  },
  {
   "cell_type": "code",
   "execution_count": 15,
   "id": "0f48f30b-fbab-4e11-8ccf-9bdd68d0203b",
   "metadata": {},
   "outputs": [
    {
     "name": "stdout",
     "output_type": "stream",
     "text": [
      "[0.8140101574778988, 0.8140101574778988]\n",
      "BERT calc time: 70.39672416600001 sec\n"
     ]
    }
   ],
   "source": [
    "print(bert_scores)\n",
    "print(\"BERT calc time:\", bert_end, \"sec\")"
   ]
  },
  {
   "cell_type": "markdown",
   "id": "34ef4a82-1ebb-4336-9cb6-ac5321a4736b",
   "metadata": {},
   "source": [
    "### RoBERTa"
   ]
  },
  {
   "cell_type": "code",
   "execution_count": 16,
   "id": "0e54f468-a9f2-44e8-8218-3637298b6ae0",
   "metadata": {},
   "outputs": [
    {
     "name": "stdout",
     "output_type": "stream",
     "text": [
      "[{'idx': 0, 'name': '0', 'path': '0_Transformer', 'type': 'sentence_transformers.models.RoBERTa'}, {'idx': 1, 'name': '1', 'path': '1_Pooling', 'type': 'sentence_transformers.models.Pooling'}]\n"
     ]
    }
   ],
   "source": [
    "roberta_start = time.perf_counter()\n",
    "roberta_supert = Supert(docs=source_docs, sentence_transformer='roberta-large-nli-stsb-mean-tokens')\n",
    "roberta_scores = roberta_supert(summaries)\n",
    "roberta_end = time.perf_counter() - roberta_start"
   ]
  },
  {
   "cell_type": "code",
   "execution_count": 17,
   "id": "92a4dc97-60f3-424a-803d-3a830e322cf0",
   "metadata": {},
   "outputs": [
    {
     "name": "stdout",
     "output_type": "stream",
     "text": [
      "[0.8463517003214622, 0.8463517003214622]\n",
      "RoBERTa calc time: 80.147001708 sec\n"
     ]
    }
   ],
   "source": [
    "print(roberta_scores)\n",
    "print(\"RoBERTa calc time:\", roberta_end, \"sec\")"
   ]
  },
  {
   "cell_type": "markdown",
   "id": "c1b78751-f103-4008-b777-f32ca6bc9d56",
   "metadata": {},
   "source": [
    "### ALBERT"
   ]
  },
  {
   "cell_type": "code",
   "execution_count": null,
   "id": "dedb739d-dbef-409e-8864-1d0860db7282",
   "metadata": {},
   "outputs": [],
   "source": [
    "albert_supert = Supert(docs=source_docs, sentence_transformer='paraphrase-albert-base-v2')\n",
    "scores = albert_supert(summaries)"
   ]
  },
  {
   "cell_type": "code",
   "execution_count": null,
   "id": "df5b6d12-d74d-4573-9de5-8967374e4222",
   "metadata": {},
   "outputs": [],
   "source": [
    "print(scores)"
   ]
  },
  {
   "cell_type": "markdown",
   "id": "ff3aeecf-2776-4c4f-977e-3cebaa60a9c4",
   "metadata": {},
   "source": [
    "### DISTILBERT"
   ]
  },
  {
   "cell_type": "code",
   "execution_count": null,
   "id": "8786997c-7f4d-42f6-a9c6-2b29c501c0b7",
   "metadata": {},
   "outputs": [],
   "source": [
    "distilbert_supert = Supert(docs=source_docs, sentence_transformer='distilbert-large-nli-stsb-mean-tokens')\n",
    "scores = distilbert_supert(summaries)"
   ]
  },
  {
   "cell_type": "code",
   "execution_count": null,
   "id": "b8682a79-7fcf-4333-9a68-2dee3c34107b",
   "metadata": {},
   "outputs": [],
   "source": [
    "print(scores)"
   ]
  },
  {
   "cell_type": "markdown",
   "id": "de91cca7-0246-4457-ba68-047cc657eac4",
   "metadata": {},
   "source": [
    "### DEBERTA"
   ]
  },
  {
   "cell_type": "code",
   "execution_count": null,
   "id": "4076cf30-c236-4ebe-bf5b-aa2824a7f969",
   "metadata": {},
   "outputs": [],
   "source": [
    "deberta_supert = Supert(docs=source_docs, sentence_transformer='deberta-large-nli-stsb-mean-tokens')\n",
    "scores = deberta_supert(summaries)"
   ]
  },
  {
   "cell_type": "code",
   "execution_count": null,
   "id": "204d7380-275c-4669-aeb5-e0d761e42f01",
   "metadata": {},
   "outputs": [],
   "source": [
    "print(scores)"
   ]
  },
  {
   "cell_type": "markdown",
   "id": "005c11f0-58c1-4546-a523-27250c6a9601",
   "metadata": {},
   "source": [
    "# Create Summaries with RL"
   ]
  },
  {
   "cell_type": "markdown",
   "id": "e9306189-f3c3-488e-b86b-ce103e5b1ae4",
   "metadata": {},
   "source": [
    "### RL Class from other py-script"
   ]
  },
  {
   "cell_type": "code",
   "execution_count": 9,
   "id": "b50e52ef-310a-4c9c-98b8-3c55bf2ecc5b",
   "metadata": {},
   "outputs": [],
   "source": [
    "from ref_free_metrics.supert import Supert\n",
    "from summariser.ngram_vector.vector_generator import Vectoriser\n",
    "from summariser.deep_td import DeepTDAgent as RLAgent\n",
    "from utils.data_reader import CorpusReader\n",
    "from utils.evaluator import evaluate_summary_rouge, add_result\n",
    "\n",
    "class RLSummarizer():\n",
    "    def __init__(self,reward_func, reward_strict=5.,rl_strict=5.,train_episode=5000, base_length=200, sample_summ_num=5000, gpu=False):\n",
    "        self.reward_func = reward_func\n",
    "        self.reward_strict = reward_strict\n",
    "        self.rl_strict = rl_strict\n",
    "        self.train_episode = train_episode\n",
    "        self.base_length = base_length\n",
    "        self.sample_summ_num = sample_summ_num\n",
    "        self.gpu = gpu\n",
    "\n",
    "    def get_sample_summaries(self, docs, summ_max_len=100):\n",
    "        vec = Vectoriser(docs,summ_max_len)\n",
    "        summary_list = vec.sample_random_summaries(self.sample_summ_num)\n",
    "        rewards = self.reward_func(summary_list)\n",
    "        assert len(summary_list) == len(rewards)\n",
    "        return summary_list, rewards\n",
    "\n",
    "    def summarize(self, docs, summ_max_len=100):\n",
    "        # generate sample summaries for memory replay\n",
    "        summaries, rewards = self.get_sample_summaries(docs, summ_max_len)\n",
    "        vec = Vectoriser(docs,base=self.base_length)\n",
    "        rl_agent = RLAgent(vec, summaries, strict_para=self.rl_strict, train_round=self.train_episode, gpu=self.gpu)\n",
    "        summary = rl_agent(rewards)\n",
    "        return summary"
   ]
  },
  {
   "cell_type": "code",
   "execution_count": 10,
   "id": "964345ab-7778-40ff-9656-aef26c932d10",
   "metadata": {},
   "outputs": [
    {
     "name": "stderr",
     "output_type": "stream",
     "text": [
      "generating samples for memory replay: 100%|██████████| 5000/5000 [00:06<00:00, 718.91it/s]\n",
      "neural-rl training episodes: 100%|██████████| 5000/5000 [00:39<00:00, 127.07it/s]\n"
     ]
    },
    {
     "name": "stdout",
     "output_type": "stream",
     "text": [
      "Distraught and remorseful, Alvarez told police he had left the vehicle and watched the derailment, Adams said. ``I think his intent at that time was to take his own life, but (he) changed his mind prior to the train actually striking the vehicle.'' At 6:02 a.m., the three-car Train 100, headed from Moorpark to Union Station, with the locomotive in the rear, crashed into the SUV. Until Wednesday, Juan Manuel Alvarez was living the average life of an obscure and troubled man. Adams identified the suspect as Juan Manuel Alvarez, 25, of Compton, adding that he had attempted suicide before.\n"
     ]
    }
   ],
   "source": [
    "# generate summaries using reinforcement learning, with supert as reward function\n",
    "rl_summarizer = RLSummarizer(reward_func = supert, gpu = False)\n",
    "summary = rl_summarizer.summarize(source_docs, summ_max_len=100)\n",
    "\n",
    "# print out the generated summary\n",
    "print(summary)"
   ]
  },
  {
   "cell_type": "code",
   "execution_count": null,
   "id": "022889cb-7e41-4a0a-a335-dd4b43bb79c2",
   "metadata": {},
   "outputs": [],
   "source": []
  }
 ],
 "metadata": {
  "kernelspec": {
   "display_name": "Python 3",
   "language": "python",
   "name": "python3"
  },
  "language_info": {
   "codemirror_mode": {
    "name": "ipython",
    "version": 3
   },
   "file_extension": ".py",
   "mimetype": "text/x-python",
   "name": "python",
   "nbconvert_exporter": "python",
   "pygments_lexer": "ipython3",
   "version": "3.9.4"
  }
 },
 "nbformat": 4,
 "nbformat_minor": 5
}
